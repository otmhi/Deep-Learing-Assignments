{
 "cells": [
  {
   "cell_type": "markdown",
   "metadata": {
    "colab_type": "text",
    "id": "wMruNbjDAfr9"
   },
   "source": [
    "**You may need to install [OpenCV](https://pypi.python.org/pypi/opencv-python) and [scikit-video](http://www.scikit-video.org/stable/).**"
   ]
  },
  {
   "cell_type": "code",
   "execution_count": 1,
   "metadata": {
    "colab": {
     "base_uri": "https://localhost:8080/",
     "height": 101
    },
    "colab_type": "code",
    "executionInfo": {
     "elapsed": 4549,
     "status": "ok",
     "timestamp": 1548338923550,
     "user": {
      "displayName": "Otmane Sakhi",
      "photoUrl": "https://lh5.googleusercontent.com/-GA0EdfcFWjw/AAAAAAAAAAI/AAAAAAAAAD4/DZ41FxVeyY0/s64/photo.jpg",
      "userId": "09799634635341660587"
     },
     "user_tz": -60
    },
    "id": "Ew6udZwrBNSr",
    "outputId": "6c5fa94f-ff86-4e43-8970-ea398f1f1606"
   },
   "outputs": [],
   "source": [
    "# if needed, install scikit-video, deactivating gpus helps accelerate the training\n",
    "\n",
    "#!pip install scikit-video\n",
    "# import os\n",
    "# os.environ[\"CUDA_DEVICE_ORDER\"]=\"PCI_BUS_ID\" \n",
    "# os.environ[\"CUDA_VISIBLE_DEVICES\"]= \"-1\""
   ]
  },
  {
   "cell_type": "code",
   "execution_count": 2,
   "metadata": {
    "colab": {},
    "colab_type": "code",
    "id": "79BEZUG7Afr_"
   },
   "outputs": [
    {
     "name": "stderr",
     "output_type": "stream",
     "text": [
      "Using TensorFlow backend.\n"
     ]
    }
   ],
   "source": [
    "import keras\n",
    "import numpy as np\n",
    "import io\n",
    "import base64\n",
    "from IPython.display import HTML\n",
    "import skvideo.io\n",
    "import cv2\n",
    "import json\n",
    "\n",
    "from keras.models import Sequential,model_from_json\n",
    "from keras.layers.core import Dense, Flatten\n",
    "from keras.regularizers import l2\n",
    "from keras.optimizers import sgd, Adam\n",
    "from keras.layers import Conv2D, MaxPooling2D, Activation, AveragePooling2D,Reshape,BatchNormalization"
   ]
  },
  {
   "cell_type": "markdown",
   "metadata": {
    "colab_type": "text",
    "id": "VO5EVf1-AfsC"
   },
   "source": [
    "# MiniProject #3: Deep Reinforcement Learning"
   ]
  },
  {
   "cell_type": "markdown",
   "metadata": {
    "colab_type": "text",
    "id": "AxRip65TAfsD"
   },
   "source": [
    "__Notations__: $E_p$ is the expectation under probability $p$. Please justify each of your answer and widely comment your code."
   ]
  },
  {
   "cell_type": "markdown",
   "metadata": {
    "colab_type": "text",
    "id": "WgrO9sSfAfsF"
   },
   "source": [
    "# Context"
   ]
  },
  {
   "cell_type": "markdown",
   "metadata": {
    "colab_type": "text",
    "id": "K55_9Q0lAfsF"
   },
   "source": [
    "In a reinforcement learning algorithm, we modelize each step $t$ as an action $a_t$ obtained from a state $s_t$, i.e. $\\{(a_{t},s_{t})_{t\\leq T}\\}$ having the Markov property. We consider a discount factor $\\gamma \\in [0,1]$ that ensures convergence. The goal is to find among all the policies $\\pi$, one that maximizes the expected reward:\n",
    "\n",
    "\\begin{equation*}\n",
    "R(\\pi)=\\sum_{t\\leq T}E_{p^{\\pi}}[\\gamma^t r(s_{t},a_{t})] \\> ,\n",
    "\\end{equation*}\n",
    "\n",
    "where: \n",
    "\\begin{equation*}p^{\\pi}(a_{0},a_{1},s_{1},...,a_{T},s_{T})=p(a_{0})\\prod_{t=1}^{T}\\pi(a_{t}|s_{t})p(s_{t+1}|s_{t},a_{t}) \\> .\n",
    "\\end{equation*}\n",
    "\n",
    "We note the $Q$-function:\n",
    "\n",
    "\\begin{equation*}Q^\\pi(s,a)=E_{p^{\\pi}}[\\sum_{t\\leq T}\\gamma^{t}r(s_{t},a_{t})|s_{0}=s,a_{0}=a] \\> .\n",
    "\\end{equation*}\n",
    "\n",
    "Thus, the optimal Q function is:\n",
    "\\begin{equation*}\n",
    "Q^*(s,a)=\\max_{\\pi}Q^\\pi(s,a) \\> .\n",
    "\\end{equation*}\n",
    "\n",
    "In this project, we will apply the deep reinforcement learning techniques to a simple game: an agent will have to learn from scratch a policy that will permit it maximizing a reward."
   ]
  },
  {
   "cell_type": "markdown",
   "metadata": {
    "colab_type": "text",
    "id": "tQLR_BQEAfsH"
   },
   "source": [
    "## The environment, the agent and the game"
   ]
  },
  {
   "cell_type": "markdown",
   "metadata": {
    "colab_type": "text",
    "id": "6M-wScVWAfsH"
   },
   "source": [
    "### The environment"
   ]
  },
  {
   "cell_type": "markdown",
   "metadata": {
    "colab_type": "text",
    "id": "vobMNNfyAfsI"
   },
   "source": [
    "```Environment``` is an abstract class that represents the states, rewards, and actions to obtain the new state."
   ]
  },
  {
   "cell_type": "code",
   "execution_count": 3,
   "metadata": {
    "colab": {},
    "colab_type": "code",
    "id": "bxbp7j-oAfsK"
   },
   "outputs": [],
   "source": [
    "class Environment(object):\n",
    "    def __init__(self):\n",
    "        pass\n",
    "\n",
    "    def act(self, act):\n",
    "        \"\"\"\n",
    "        One can act on the environment and obtain its reaction:\n",
    "        - the new state\n",
    "        - the reward of the new state\n",
    "        - should we continue the game?\n",
    "\n",
    "        :return: state, reward, game_over\n",
    "        \"\"\"\n",
    "        pass\n",
    "\n",
    "\n",
    "    def reset(self):\n",
    "        \"\"\"\n",
    "        Reinitialize the environment to a random state and returns\n",
    "        the original state\n",
    "\n",
    "        :return: state\n",
    "        \"\"\"\n",
    "        pass\n",
    "    \n",
    "    def draw(self):\n",
    "        \"\"\"\n",
    "        Visualize in the console or graphically the current state\n",
    "        \"\"\"\n",
    "        pass"
   ]
  },
  {
   "cell_type": "markdown",
   "metadata": {
    "colab_type": "text",
    "id": "pGHXm3TkAfsP"
   },
   "source": [
    "The method ```act``` allows to act on the environment at a given state $s_t$ (stored internally), via action $a_t$. The method will return the new state $s_{t+1}$, the reward $r(s_{t},a_{t})$ and determines if $t\\leq T$ (*game_over*).\n",
    "\n",
    "The method ```reset``` simply reinitializes the environment to a random state $s_0$.\n",
    "\n",
    "The method ```draw``` displays the current state $s_t$ (this is useful to check the behavior of the Agent).\n",
    "\n",
    "We modelize $s_t$ as a tensor, while $a_t$ is an integer."
   ]
  },
  {
   "cell_type": "markdown",
   "metadata": {
    "colab_type": "text",
    "id": "cU7e7x0SAfsP"
   },
   "source": [
    "### The Agent"
   ]
  },
  {
   "cell_type": "markdown",
   "metadata": {
    "colab_type": "text",
    "id": "d87amYE-AfsQ"
   },
   "source": [
    "The goal of the ```Agent``` is to interact with the ```Environment``` by proposing actions $a_t$ obtained from a given state $s_t$ to attempt to maximize its __reward__ $r(s_t,a_t)$. We propose the following abstract class:"
   ]
  },
  {
   "cell_type": "code",
   "execution_count": 4,
   "metadata": {
    "colab": {},
    "colab_type": "code",
    "id": "Ud2w4NKPAfsR"
   },
   "outputs": [],
   "source": [
    "class Agent(object):\n",
    "    def __init__(self, epsilon=0.1, n_action=4):\n",
    "        self.epsilon = epsilon\n",
    "        self.n_action = n_action\n",
    "    \n",
    "    def set_epsilon(self,e):\n",
    "        self.epsilon = e\n",
    "\n",
    "    def act(self,s,train=True):\n",
    "        \"\"\" This function should return the next action to do:\n",
    "        an integer between 0 and 4 (not included) with a random exploration of epsilon\"\"\"\n",
    "        if train:\n",
    "            if np.random.rand() <= self.epsilon:\n",
    "                a = np.random.randint(0, self.n_action, size=1)[0]\n",
    "            else:\n",
    "                a = self.learned_act(s)\n",
    "        else: # in some cases, this can improve the performance.. remove it if poor performances\n",
    "            a = self.learned_act(s)\n",
    "\n",
    "        return a\n",
    "\n",
    "    def learned_act(self,s):\n",
    "        \"\"\" Act via the policy of the agent, from a given state s\n",
    "        it proposes an action a\"\"\"\n",
    "        pass\n",
    "\n",
    "    def reinforce(self, s, n_s, a, r, game_over_):\n",
    "        \"\"\" This function is the core of the learning algorithm. \n",
    "        It takes as an input the current state s_, the next state n_s_\n",
    "        the action a_ used to move from s_ to n_s_ and the reward r_.\n",
    "        \n",
    "        Its goal is to learn a policy.\n",
    "        \"\"\"\n",
    "        pass\n",
    "\n",
    "    def save(self):\n",
    "        \"\"\" This function returns basic stats if applicable: the\n",
    "        loss and/or the model\"\"\"\n",
    "        pass\n",
    "\n",
    "    def load(self):\n",
    "        \"\"\" This function allows to restore a model\"\"\"\n",
    "        pass"
   ]
  },
  {
   "cell_type": "markdown",
   "metadata": {
    "colab_type": "text",
    "id": "-50_BoBaAfsV"
   },
   "source": [
    "***\n",
    "__Question 1__:\n",
    "Explain the function act. Why is ```epsilon``` essential?"
   ]
  },
  {
   "cell_type": "markdown",
   "metadata": {
    "colab_type": "text",
    "id": "euX-A579AfsW"
   },
   "source": [
    "The act function makes an action in the environnement we have depending on the phase we're in  : \n",
    "\n",
    "- in the training phase, we perform a random action with an $\\epsilon$ probability to encourgae exploration and perform an action with the learned policy with a probability of $ 1- \\epsilon$ to evaluate our current policy. $\\epsilon$ is very important as it lets the agent to explore the environnement and encourage it to not getting stuck in local reward optimas.\n",
    "\n",
    "- in the test phase, the agent performs the best action he learned for the current state."
   ]
  },
  {
   "cell_type": "markdown",
   "metadata": {
    "colab_type": "text",
    "id": "Y4415B3ZAfsW"
   },
   "source": [
    "***\n",
    "### The Game"
   ]
  },
  {
   "cell_type": "markdown",
   "metadata": {
    "colab_type": "text",
    "id": "8V4dgoF9AfsY"
   },
   "source": [
    "The ```Agent``` and the ```Environment``` work in an interlaced way as in the following (take some time to understand this code as it is the core of the project)\n",
    "\n",
    "```python\n",
    "\n",
    "epoch = 300\n",
    "env = Environment()\n",
    "agent = Agent()\n",
    "\n",
    "\n",
    "# Number of won games\n",
    "score = 0\n",
    "loss = 0\n",
    "\n",
    "\n",
    "for e in range(epoch):\n",
    "    # At each epoch, we restart to a fresh game and get the initial state\n",
    "    state = env.reset()\n",
    "    # This assumes that the games will end\n",
    "    game_over = False\n",
    "\n",
    "    win = 0\n",
    "    lose = 0\n",
    "    \n",
    "    while not game_over:\n",
    "        # The agent performs an action\n",
    "        action = agent.act(state)\n",
    "\n",
    "        # Apply an action to the environment, get the next state, the reward\n",
    "        # and if the games end\n",
    "        prev_state = state\n",
    "        state, reward, game_over = env.act(action)\n",
    "\n",
    "        # Update the counters\n",
    "        if reward > 0:\n",
    "            win = win + reward\n",
    "        if reward < 0:\n",
    "            lose = lose -reward\n",
    "\n",
    "        # Apply the reinforcement strategy\n",
    "        loss = agent.reinforce(prev_state, state,  action, reward, game_over)\n",
    "\n",
    "    # Save as a mp4\n",
    "    if e % 10 == 0:\n",
    "        env.draw(e)\n",
    "\n",
    "    # Update stats\n",
    "    score += win-lose\n",
    "\n",
    "    print(\"Epoch {:03d}/{:03d} | Loss {:.4f} | Win/lose count {}/{} ({})\"\n",
    "          .format(e, epoch, loss, win, lose, win-lose))\n",
    "    agent.save()\n",
    "```"
   ]
  },
  {
   "cell_type": "markdown",
   "metadata": {
    "colab_type": "text",
    "id": "laYYHJEgAfsZ"
   },
   "source": [
    "# The game, *eat cheese*"
   ]
  },
  {
   "cell_type": "markdown",
   "metadata": {
    "colab_type": "text",
    "id": "tqAYeGCsAfsb"
   },
   "source": [
    "A rat runs on an island and tries to eat as much as possible. The island is subdivided into $N\\times N$ cells, in which there are cheese (+0.5) and poisonous cells (-1). The rat has a visibility of 2 cells (thus it can see $5^2$ cells). The rat is given a time $T$ to accumulate as much food as possible. It can perform 4 actions: going up, down, left, right. \n",
    "\n",
    "The goal is to code an agent to solve this task that will learn by trial and error. We propose the following environment:"
   ]
  },
  {
   "cell_type": "code",
   "execution_count": 5,
   "metadata": {
    "colab": {},
    "colab_type": "code",
    "id": "kkiFTsUoAfsc"
   },
   "outputs": [],
   "source": [
    "class Environment(object):\n",
    "  \n",
    "    def __init__(self, grid_size=10, max_time=500, temperature=0.1):\n",
    "        grid_size = grid_size+4\n",
    "        self.grid_size = grid_size\n",
    "        self.max_time = max_time\n",
    "        self.temperature = temperature\n",
    "\n",
    "        #board on which one plays\n",
    "        self.board = np.zeros((grid_size,grid_size))\n",
    "        self.position = np.zeros((grid_size,grid_size))\n",
    "\n",
    "        # coordinate of the cat\n",
    "        self.x = 0\n",
    "        self.y = 1\n",
    "\n",
    "        # self time\n",
    "        self.t = 0\n",
    "\n",
    "        self.scale=16\n",
    "\n",
    "        self.to_draw = np.zeros((max_time+2, grid_size*self.scale, grid_size*self.scale, 3))\n",
    "\n",
    "\n",
    "    def draw(self,e):\n",
    "        skvideo.io.vwrite(str(e) + '.mp4', self.to_draw)\n",
    "\n",
    "    def get_frame(self,t):\n",
    "        b = np.zeros((self.grid_size,self.grid_size,3))+128\n",
    "        b[self.board>0,0] = 256\n",
    "        b[self.board < 0, 2] = 256\n",
    "        b[self.x,self.y,:]=256\n",
    "        b[-2:,:,:]=0\n",
    "        b[:,-2:,:]=0\n",
    "        b[:2,:,:]=0\n",
    "        b[:,:2,:]=0\n",
    "        \n",
    "        b =  cv2.resize(b, None, fx=self.scale, fy=self.scale, interpolation=cv2.INTER_NEAREST)\n",
    "\n",
    "        self.to_draw[t,:,:,:]=b\n",
    "\n",
    "\n",
    "    def act(self, action):\n",
    "        \"\"\"This function returns the new state, reward and decides if the\n",
    "        game ends.\"\"\"\n",
    "\n",
    "        self.get_frame(int(self.t))\n",
    "\n",
    "        self.position = np.zeros((self.grid_size, self.grid_size))\n",
    "\n",
    "        self.position[0:2,:]= -1\n",
    "        self.position[:,0:2] = -1\n",
    "        self.position[-2:, :] = -1\n",
    "        self.position[-2:, :] = -1\n",
    "\n",
    "        self.position[self.x, self.y] = 1\n",
    "        if action == 0:\n",
    "            if self.x == self.grid_size-3:\n",
    "                self.x = self.x-1\n",
    "            else:\n",
    "                self.x = self.x + 1\n",
    "        elif action == 1:\n",
    "            if self.x == 2:\n",
    "                self.x = self.x+1\n",
    "            else:\n",
    "                self.x = self.x-1\n",
    "        elif action == 2:\n",
    "            if self.y == self.grid_size - 3:\n",
    "                self.y = self.y - 1\n",
    "            else:\n",
    "                self.y = self.y + 1\n",
    "        elif action == 3:\n",
    "            if self.y == 2:\n",
    "                self.y = self.y + 1\n",
    "            else:\n",
    "                self.y = self.y - 1\n",
    "        else:\n",
    "            RuntimeError('Error: action not recognized')\n",
    "\n",
    "        self.t = self.t + 1\n",
    "        reward = self.board[self.x, self.y]\n",
    "        self.board[self.x, self.y] = 0\n",
    "        game_over = self.t > self.max_time\n",
    "        state = np.concatenate((self.board.reshape(self.grid_size, self.grid_size,1),\n",
    "                        self.position.reshape(self.grid_size, self.grid_size,1)),axis=2)\n",
    "        state = state[self.x-2:self.x+3,self.y-2:self.y+3,:]\n",
    "\n",
    "        return state, reward, game_over\n",
    "\n",
    "    def reset(self):\n",
    "        \"\"\"This function resets the game and returns the initial state\"\"\"\n",
    "\n",
    "        self.x = np.random.randint(3, self.grid_size-3, size=1)[0]\n",
    "        self.y = np.random.randint(3, self.grid_size-3, size=1)[0]\n",
    "\n",
    "\n",
    "        bonus = 0.5*np.random.binomial(1,self.temperature,size=self.grid_size**2)\n",
    "        bonus = bonus.reshape(self.grid_size,self.grid_size)\n",
    "\n",
    "        malus = -1.0*np.random.binomial(1,self.temperature,size=self.grid_size**2)\n",
    "        malus = malus.reshape(self.grid_size, self.grid_size)\n",
    "\n",
    "        self.to_draw = np.zeros((self.max_time+2, self.grid_size*self.scale, self.grid_size*self.scale, 3))\n",
    "\n",
    "\n",
    "        malus[bonus>0]=0\n",
    "\n",
    "        self.board = bonus + malus\n",
    "\n",
    "        self.position = np.zeros((self.grid_size, self.grid_size))\n",
    "        self.position[0:2,:]= -1\n",
    "        self.position[:,0:2] = -1\n",
    "        self.position[-2:, :] = -1\n",
    "        self.position[-2:, :] = -1\n",
    "        self.board[self.x,self.y] = 0\n",
    "        self.t = 0\n",
    "\n",
    "        state = np.concatenate((\n",
    "                               self.board.reshape(self.grid_size, self.grid_size,1),\n",
    "                        self.position.reshape(self.grid_size, self.grid_size,1)),axis=2)\n",
    "\n",
    "        state = state[self.x - 2:self.x + 3, self.y - 2:self.y + 3, :]\n",
    "        return state"
   ]
  },
  {
   "cell_type": "markdown",
   "metadata": {
    "colab_type": "text",
    "id": "VvjA2VZfAfsg"
   },
   "source": [
    "The following elements are important because they correspond to the hyper parameters for this project:"
   ]
  },
  {
   "cell_type": "code",
   "execution_count": 6,
   "metadata": {
    "colab": {},
    "colab_type": "code",
    "id": "cT_9FKdeAfsi"
   },
   "outputs": [],
   "source": [
    "# parameters\n",
    "size = 13\n",
    "T=200\n",
    "temperature=0.3\n",
    "epochs_train= 50 # set small when debugging\n",
    "epochs_test= 15 # set small when debugging\n",
    "\n",
    "# display videos\n",
    "def display_videos(name):\n",
    "    video = io.open(name, 'r+b').read()\n",
    "    encoded = base64.b64encode(video)\n",
    "    return '''<video alt=\"test\" controls>\n",
    "                <source src=\"data:video/mp4;base64,{0}\" type=\"video/mp4\" />\n",
    "             </video>'''.format(encoded.decode('ascii'))"
   ]
  },
  {
   "cell_type": "markdown",
   "metadata": {
    "colab_type": "text",
    "id": "HhhzFe0VAfsm"
   },
   "source": [
    "__Question 2__ Explain the use of the arrays ```position``` and ```board```."
   ]
  },
  {
   "cell_type": "markdown",
   "metadata": {
    "colab_type": "text",
    "id": "uyxBUU-iAfsn"
   },
   "source": [
    "The array ```board``` defines the spatial distribution of the rewards on the $N\\times N$ grid. It stores the reward of getting to a state (x,y) in the board. We set the reward to 0 after its collection (the state have already been visited). red cells contain positive rewards, blue cells negative rewards and the rat is represented by a white cell.\n",
    "\n",
    "\n",
    "The array ```position``` is a static array that defines the borders (forbidden states) of the grid by a value of -1, the allowed states by 0 and the position of the agent that is defined by a value of 1."
   ]
  },
  {
   "cell_type": "markdown",
   "metadata": {
    "colab_type": "text",
    "id": "z-zuhyLzAfso"
   },
   "source": [
    "## Random Agent"
   ]
  },
  {
   "cell_type": "markdown",
   "metadata": {
    "colab_type": "text",
    "id": "z_clK65oAfso"
   },
   "source": [
    "***\n",
    "__Question 3__ Implement a random Agent (only ```learned_act``` needs to be implemented):"
   ]
  },
  {
   "cell_type": "code",
   "execution_count": 7,
   "metadata": {
    "colab": {},
    "colab_type": "code",
    "id": "k94HeKolAfsp"
   },
   "outputs": [],
   "source": [
    "class RandomAgent(Agent):\n",
    "    def __init__(self):\n",
    "        super(RandomAgent, self).__init__()\n",
    "        pass\n",
    "\n",
    "    def learned_act(self, s):\n",
    "        return np.random.randint(self.n_action)"
   ]
  },
  {
   "cell_type": "markdown",
   "metadata": {
    "colab_type": "text",
    "id": "vPzPZe7wAfss"
   },
   "source": [
    "***\n",
    "***\n",
    "__Question 4__ Visualize the game moves. You need to fill in the following function for the evaluation:"
   ]
  },
  {
   "cell_type": "code",
   "execution_count": 8,
   "metadata": {
    "colab": {},
    "colab_type": "code",
    "id": "54r-SJB4Afss"
   },
   "outputs": [],
   "source": [
    "def test(agent,env,epochs,prefix=''):\n",
    "    # Number of won games\n",
    "    score = 0\n",
    "        \n",
    "    for e in range(epochs):\n",
    "        \n",
    "        ##### FILL IN HERE\n",
    "        state = env.reset()\n",
    "        # This assumes that the games will end\n",
    "        game_over = False\n",
    "\n",
    "        win = 0\n",
    "        lose = 0\n",
    "\n",
    "        while not game_over:\n",
    "            # The agent performs an action\n",
    "            action = agent.act(state)\n",
    "\n",
    "            # Apply an action to the environment, get the next state, the reward\n",
    "            # and if the games end\n",
    "            prev_state = state\n",
    "            state, reward, game_over = env.act(action)\n",
    "\n",
    "            # Update the counters\n",
    "            if reward > 0:\n",
    "                win = win + reward\n",
    "            if reward < 0:\n",
    "                lose = lose -reward\n",
    "\n",
    "\n",
    "        # Save as a mp4\n",
    "        env.draw(prefix+str(e+1))\n",
    "\n",
    "        # Update stats\n",
    "        score = score + win-lose\n",
    "\n",
    "        print(\"Win/lose count {}/{}. Average score ({})\"\n",
    "              .format(win, lose, score/(1+e)))\n",
    "    print('Final score: '+str(score/epochs))"
   ]
  },
  {
   "cell_type": "code",
   "execution_count": 9,
   "metadata": {
    "colab": {
     "base_uri": "https://localhost:8080/",
     "height": 205
    },
    "colab_type": "code",
    "executionInfo": {
     "elapsed": 2279,
     "status": "ok",
     "timestamp": 1548341305726,
     "user": {
      "displayName": "Otmane Sakhi",
      "photoUrl": "https://lh5.googleusercontent.com/-GA0EdfcFWjw/AAAAAAAAAAI/AAAAAAAAAD4/DZ41FxVeyY0/s64/photo.jpg",
      "userId": "09799634635341660587"
     },
     "user_tz": -60
    },
    "id": "8z3-QkzpAfsv",
    "outputId": "77acaa0c-458f-4373-d6fa-8588b8981db9"
   },
   "outputs": [
    {
     "name": "stdout",
     "output_type": "stream",
     "text": [
      "Win/lose count 13.0/14.0. Average score (-1.0)\n",
      "Win/lose count 9.5/15.0. Average score (-3.25)\n",
      "Win/lose count 8.5/15.0. Average score (-4.333333333333333)\n",
      "Win/lose count 10.0/8.0. Average score (-2.75)\n",
      "Win/lose count 12.5/17.0. Average score (-3.1)\n",
      "Win/lose count 10.5/9.0. Average score (-2.3333333333333335)\n",
      "Win/lose count 12.0/18.0. Average score (-2.857142857142857)\n",
      "Win/lose count 13.5/12.0. Average score (-2.3125)\n",
      "Win/lose count 7.5/12.0. Average score (-2.5555555555555554)\n",
      "Win/lose count 8.0/6.0. Average score (-2.1)\n",
      "Win/lose count 13.0/10.0. Average score (-1.6363636363636365)\n",
      "Win/lose count 8.0/10.0. Average score (-1.6666666666666667)\n",
      "Win/lose count 10.0/18.0. Average score (-2.1538461538461537)\n",
      "Win/lose count 13.5/15.0. Average score (-2.107142857142857)\n",
      "Win/lose count 13.0/17.0. Average score (-2.2333333333333334)\n",
      "Final score: -2.2333333333333334\n"
     ]
    },
    {
     "data": {
      "text/html": [
       "<video alt=\"test\" controls>\n",
       "                <source src=\"data:video/mp4;base64,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\" type=\"video/mp4\" />\n",
       "             </video>"
      ],
      "text/plain": [
       "<IPython.core.display.HTML object>"
      ]
     },
     "execution_count": 9,
     "metadata": {},
     "output_type": "execute_result"
    }
   ],
   "source": [
    "# Initialize the game\n",
    "env = Environment(grid_size=size, max_time=T,temperature=temperature)\n",
    "\n",
    "# Initialize the agent!\n",
    "agent = RandomAgent()\n",
    "\n",
    "test(agent,env,epochs_test,prefix='random')\n",
    "HTML(display_videos('random1.mp4'))"
   ]
  },
  {
   "cell_type": "markdown",
   "metadata": {
    "colab_type": "text",
    "id": "XcPyHdH8Afsy"
   },
   "source": [
    "***\n",
    "## DQN"
   ]
  },
  {
   "cell_type": "markdown",
   "metadata": {
    "colab_type": "text",
    "id": "SlG0Ne_vAfsz"
   },
   "source": [
    "Let us assume here that $T=\\infty$.\n",
    "\n",
    "***\n",
    "__Question 5__ Let $\\pi$ be a policy, show that:\n",
    "\n",
    "\\begin{equation*}\n",
    "Q^{\\pi}(s,a)=E_{(s',a')\\sim p(.|s,a)}[r(s,a)+\\gamma Q^{\\pi}(s',a')]\n",
    "\\end{equation*}\n",
    "\n",
    "Then, show that for the optimal policy $\\pi^*$ (we assume its existence), the following holds: \n",
    "\n",
    "\\begin{equation*}\n",
    "Q^{*}(s,a)=E_{s'\\sim \\pi^*(.|s,a)}[r(s,a)+\\gamma\\max_{a'}Q^{*}(s',a')].\n",
    "\\end{equation*}\n",
    "Finally, deduce that a plausible objective is:\n",
    "\n",
    "\\begin{equation*}\n",
    "\\mathcal{L}(\\theta)=E_{s' \\sim \\pi^*(.|s,a)}\\Vert r+\\gamma\\max_{a'}Q(s',a',\\theta)-Q(s,a,\\theta)\\Vert^{2}.\n",
    "\\end{equation*}\n",
    "\n",
    "\n"
   ]
  },
  {
   "cell_type": "markdown",
   "metadata": {},
   "source": [
    "**ANSWERS** :\n",
    "\n",
    "\n",
    "__1)__\n",
    "$$\n",
    "\\begin{align*} \n",
    "Q^\\pi(s,a)&=E_{p^{\\pi}}[\\sum_{t=0}^{\\infty}\\gamma^{t}r(s_{t},a_{t})|s_{0}=s,a_{0}=a]\\\\\n",
    "          &=E_{p^{\\pi}}[r(s_0,a_0) + \\gamma\\sum_{t=1}^{\\infty}\\gamma^{t-1}r(s_{t},a_{t})|s_{0}=s,a_{0}=a]\\\\\n",
    "          &=r(s,a) + \\gamma E_{p^{\\pi}}[\\sum_{t=0}^{\\infty}\\gamma^{t}r(s_{t+1},a_{t+1})|s_{0}=s,a_{0}=a]\\\\\n",
    "          &=r(s,a) + \\gamma E_{(s',a')\\sim p(.|s,a)}\\left(E_{p^{\\pi}}[\\sum_{t=0}^{\\infty}\\gamma^{t}r(s_{t},a_{t})|s_{0}=s',a_{0}=a']\\right)\\\\\n",
    "          &=E_{(s',a')\\sim p(.|s,a)}\\left(r(s,a) + \\gamma E_{p^{\\pi}}[\\sum_{t=0}^{\\infty}\\gamma^{t}r(s_{t},a_{t})|s_{0}=s',a_{0}=a']\\right)\\\\\n",
    "          &=E_{(s',a')\\sim p(.|s,a)}\\left(r(s,a) + \\gamma Q^{\\pi}(s',a') \\right)\n",
    "\\end{align*}\n",
    "$$\n"
   ]
  },
  {
   "cell_type": "markdown",
   "metadata": {},
   "source": [
    "__2)__ the optimal policy $\\pi^*$ is deterministic with : $\\pi^*(s') = arg\\max_{a'} Q^{*}(s',a')$\n",
    "\n",
    "\n",
    "\\begin{align*}\n",
    "Q^*(s,a)&= E_{(s',a')\\sim p(.|s,a)}\\left(r(s,a) + \\gamma Q^{*}(s',a') \\right)\\\\\n",
    "        &= E_{s' \\sim p^*(.|s,a),\\, a'\\sim \\pi^*(.|s')}\\left(r(s,a) + \\gamma Q^{*}(s',a') \\right)\\\\\n",
    "         &= E_{s'\\sim p^*(.|s,a),\\, a' = \\pi^*(s')}\\left(r(s,a) + \\gamma Q^{*}(s',a') \\right) \\textrm{(deterministic policy)}\\\\\n",
    "        &= E_{s' \\sim \\pi^*(.|s,a)}\\left(r(s,a) + \\gamma \\max_{a'}Q^{*}(s',a') \\right)\\\\\n",
    "\\end{align*}\n"
   ]
  },
  {
   "cell_type": "markdown",
   "metadata": {},
   "source": [
    "__3)__ We've shown that $Q^*$ is the solution of the equation $F(Q) = 0$ with $$F(Q) = E_{s' \\sim \\pi^*(.|s,a)}\\left(r(s,a) + \\gamma \\max_{a'}Q(s',a') - Q(s,a)\\right)$$\n",
    "\n",
    "Minimizing $\\mathcal{L}(\\theta)=E_{s' \\sim \\pi^*(.|s,a)}\\Vert r(s,a) +\\gamma\\max_{a'}Q(s',a',\\theta)-Q(s,a,\\theta)\\Vert^{2}$ will lead us to find the optimal Q and thus the optimal policy.\n"
   ]
  },
  {
   "cell_type": "markdown",
   "metadata": {
    "colab_type": "text",
    "id": "c7-n1ksoAfs1"
   },
   "source": [
    "***\n",
    "The DQN-learning algorithm relies on these derivations to train the parameters $\\theta$ of a Deep Neural Network:\n",
    "\n",
    "1. At the state $s_t$, select the action $a_t$ with best reward using $Q_t$ and store the results;\n",
    "\n",
    "2. Obtain the new state $s_{t+1}$ from the environment $p$;\n",
    "\n",
    "3. Store $(s_t,a_t,s_{t+1})$;\n",
    "\n",
    "4. Obtain $Q_{t+1}$ by minimizing  $\\mathcal{L}$ from a recovered batch from the previously stored results.\n",
    "\n",
    "***\n",
    "__Question 6__ Implement the class ```Memory``` that stores moves (in a replay buffer) via ```remember``` and provides a ```random_access``` to these. Specify a maximum memory size to avoid side effects. You can for example use a ```list()``` and set by default ```max_memory=100```."
   ]
  },
  {
   "cell_type": "code",
   "execution_count": 10,
   "metadata": {
    "colab": {},
    "colab_type": "code",
    "id": "zlvBY5rnAfs2"
   },
   "outputs": [],
   "source": [
    "from collections import deque\n",
    "\n",
    "#we use deque which suits more the problematic (better time complexity)\n",
    "class Memory(object):\n",
    "    def __init__(self, max_memory=100):\n",
    "        self.max_memory = max_memory\n",
    "        self.memory = deque(maxlen = self.max_memory) \n",
    "\n",
    "    def remember(self, m):\n",
    "        self.memory.append(m)\n",
    "\n",
    "    def random_access(self):\n",
    "        return self.memory[np.random.randint(len(self.memory))]"
   ]
  },
  {
   "cell_type": "markdown",
   "metadata": {
    "colab_type": "text",
    "id": "Daj_JRlzAfs4"
   },
   "source": [
    "***\n",
    "The pipeline we will use for training is given below:"
   ]
  },
  {
   "cell_type": "code",
   "execution_count": 11,
   "metadata": {
    "colab": {},
    "colab_type": "code",
    "id": "ZSXn7axWAfs6"
   },
   "outputs": [],
   "source": [
    "def train(agent,env,epoch,prefix=''):\n",
    "    # Number of won games\n",
    "    score = 0\n",
    "    loss = 0\n",
    "\n",
    "    for e in range(epoch):\n",
    "        # At each epoch, we restart to a fresh game and get the initial state\n",
    "        state = env.reset()\n",
    "        # This assumes that the games will terminate\n",
    "        game_over = False\n",
    "\n",
    "        win = 0\n",
    "        lose = 0\n",
    "\n",
    "        while not game_over:\n",
    "            # The agent performs an action\n",
    "            action = agent.act(state)\n",
    "\n",
    "            # Apply an action to the environment, get the next state, the reward\n",
    "            # and if the games end\n",
    "            prev_state = state\n",
    "            state, reward, game_over = env.act(action)\n",
    "\n",
    "            # Update the counters\n",
    "            if reward > 0:\n",
    "                win = win + reward\n",
    "            if reward < 0:\n",
    "                lose = lose -reward\n",
    "\n",
    "            # Apply the reinforcement strategy\n",
    "            loss = agent.reinforce(prev_state, state,  action, reward, game_over)\n",
    "\n",
    "        # Save as a mp4\n",
    "        if (e + 1) % 10 == 0:\n",
    "            env.draw(prefix+str(e+1))\n",
    "\n",
    "        # Update stats\n",
    "        score += win-lose\n",
    "\n",
    "        print(\"Epoch {:03d}/{:03d} | Loss {:.4f} | Win/lose count {}/{} ({})\"\n",
    "              .format(e, epoch, loss, win, lose, win-lose))\n",
    "        agent.save(name_weights=prefix+'model.h5',name_model=prefix+'model.json')"
   ]
  },
  {
   "cell_type": "markdown",
   "metadata": {
    "colab_type": "text",
    "id": "KyGZ4eAkAfs8"
   },
   "source": [
    "***\n",
    "__Question 7__ Implement the DQN training algorithm using a cascade of fully connected layers. You can use different learning rate, batch size or memory size parameters. In particular, the loss might oscillate while the player will start to win the games. You have to find a good criterium."
   ]
  },
  {
   "cell_type": "code",
   "execution_count": 12,
   "metadata": {
    "colab": {},
    "colab_type": "code",
    "id": "eW4SGcV4Afs9"
   },
   "outputs": [],
   "source": [
    "class DQN(Agent):\n",
    "    def __init__(self, grid_size,  epsilon = 0.1, memory_size=100, batch_size = 16,n_state=2):\n",
    "        super(DQN, self).__init__(epsilon = epsilon)\n",
    "\n",
    "        # Discount for Q learning\n",
    "        self.discount = 0.99\n",
    "        \n",
    "        self.grid_size = grid_size\n",
    "        \n",
    "        # number of state\n",
    "        self.n_state = n_state\n",
    "\n",
    "        # Memory\n",
    "        self.memory = Memory(memory_size)\n",
    "        \n",
    "        # Batch size when learning\n",
    "        self.batch_size = batch_size\n",
    "\n",
    "    def learned_act(self, s):\n",
    "        return np.argmax(self.model.predict(s[None]))\n",
    "\n",
    "    def reinforce(self, s_, n_s_, a_, r_, game_over_):\n",
    "        # Two steps: first memorize the states, second learn from the pool\n",
    "        self.memory.remember([s_, n_s_, a_, r_, game_over_])\n",
    "        \n",
    "        input_states = np.zeros((self.batch_size, 5,5,self.n_state))\n",
    "        target_q = np.zeros((self.batch_size, 4))\n",
    "        \n",
    "        for i in range(self.batch_size):\n",
    "            #take a random batch from our buffer\n",
    "            s_, n_s_, a_, r_, game_over_ = self.memory.random_access()\n",
    "            \n",
    "            #store the current state and generate its state-action function\n",
    "            input_states[i], target_q[i] = s_, self.model.predict(s_[None])\n",
    "            \n",
    "            #for the action performed, set target q depending if the state is terminal or not\n",
    "            if game_over_:\n",
    "                ######## FILL IN\n",
    "                target_q[i, a_] = r_\n",
    "            else:\n",
    "                ######## FILL IN\n",
    "                ns_q = self.model.predict(n_s_[None])\n",
    "                target_q[i, a_] = r_ + self.discount*np.max(ns_q, axis = 1)\n",
    "        ######## FILL IN\n",
    "        # HINT: Clip the target to avoid exploiding gradients.. -- clipping is a bit tighter\n",
    "        \n",
    "        target_q = np.clip(target_q, -5, 5)\n",
    "        \n",
    "        l = self.model.train_on_batch(input_states, target_q)\n",
    "        \n",
    "        return l\n",
    "\n",
    "    def save(self,name_weights='model.h5',name_model='model.json'):\n",
    "        self.model.save_weights(name_weights, overwrite=True)\n",
    "        with open(name_model, \"w\") as outfile:\n",
    "            json.dump(self.model.to_json(), outfile)\n",
    "            \n",
    "    def load(self,name_weights='model.h5',name_model='model.json'):\n",
    "        with open(name_model, \"r\") as jfile:\n",
    "            model = model_from_json(json.load(jfile))\n",
    "        model.load_weights(name_weights)\n",
    "        model.compile(\"sgd\", \"mse\")\n",
    "        self.model = model\n",
    "\n",
    "            \n",
    "class DQN_FC(DQN):\n",
    "    def __init__(self, *args, lr=0.1,**kwargs):\n",
    "        super(DQN_FC, self).__init__( *args,**kwargs)\n",
    "        \n",
    "        # NN Model\n",
    "        ####### FILL IN\n",
    "        model = Sequential()\n",
    "        model.add(Flatten())\n",
    "        model.add(Dense(units = 32, input_shape=(5*5*self.n_state, ), activation= 'relu', kernel_regularizer = l2(1e-4)))\n",
    "        model.add(Dense(units = 4, input_shape=(5*5*self.n_state, ), kernel_regularizer = l2(1e-4)))\n",
    "        # clip norm\n",
    "        model.compile(sgd(lr=lr, decay=1e-4, momentum=0.0), \"mse\")\n",
    "        self.model = model\n",
    "        "
   ]
  },
  {
   "cell_type": "code",
   "execution_count": 13,
   "metadata": {
    "colab": {},
    "colab_type": "code",
    "id": "vB6c-UqmAfs_"
   },
   "outputs": [
    {
     "name": "stdout",
     "output_type": "stream",
     "text": [
      "Epoch 000/050 | Loss 0.0068 | Win/lose count 4.0/4.0 (0.0)\n",
      "Epoch 001/050 | Loss 0.0240 | Win/lose count 3.5/3.0 (0.5)\n",
      "Epoch 002/050 | Loss 0.0143 | Win/lose count 3.0/5.0 (-2.0)\n",
      "Epoch 003/050 | Loss 0.1442 | Win/lose count 1.5/1.0 (0.5)\n",
      "Epoch 004/050 | Loss 0.0506 | Win/lose count 4.5/8.0 (-3.5)\n",
      "Epoch 005/050 | Loss 0.0175 | Win/lose count 1.0/1.0 (0.0)\n",
      "Epoch 006/050 | Loss 0.0096 | Win/lose count 4.0/3.0 (1.0)\n",
      "Epoch 007/050 | Loss 0.2079 | Win/lose count 5.0/3.0 (2.0)\n",
      "Epoch 008/050 | Loss 0.0124 | Win/lose count 2.5/3.0 (-0.5)\n",
      "Epoch 009/050 | Loss 0.0123 | Win/lose count 2.0/1.0 (1.0)\n",
      "Epoch 010/050 | Loss 0.0199 | Win/lose count 3.5/3.0 (0.5)\n",
      "Epoch 011/050 | Loss 0.0189 | Win/lose count 4.0/4.0 (0.0)\n",
      "Epoch 012/050 | Loss 0.1622 | Win/lose count 3.0/1.0 (2.0)\n",
      "Epoch 013/050 | Loss 0.0148 | Win/lose count 3.5/1.0 (2.5)\n",
      "Epoch 014/050 | Loss 0.0099 | Win/lose count 6.5/1.0 (5.5)\n",
      "Epoch 015/050 | Loss 0.1722 | Win/lose count 7.0/3.0 (4.0)\n",
      "Epoch 016/050 | Loss 0.0255 | Win/lose count 5.5/6.0 (-0.5)\n",
      "Epoch 017/050 | Loss 0.0142 | Win/lose count 6.0/4.0 (2.0)\n",
      "Epoch 018/050 | Loss 0.0141 | Win/lose count 7.5/3.0 (4.5)\n",
      "Epoch 019/050 | Loss 0.0123 | Win/lose count 7.5/2.0 (5.5)\n",
      "Epoch 020/050 | Loss 0.0101 | Win/lose count 5.0/4.0 (1.0)\n",
      "Epoch 021/050 | Loss 0.0154 | Win/lose count 6.5/4.0 (2.5)\n",
      "Epoch 022/050 | Loss 0.0080 | Win/lose count 2.5/1.0 (1.5)\n",
      "Epoch 023/050 | Loss 0.1311 | Win/lose count 2.5/3.0 (-0.5)\n",
      "Epoch 024/050 | Loss 0.0127 | Win/lose count 7.5/5.0 (2.5)\n",
      "Epoch 025/050 | Loss 0.0083 | Win/lose count 7.5/6.0 (1.5)\n",
      "Epoch 026/050 | Loss 0.0133 | Win/lose count 8.0/1.0 (7.0)\n",
      "Epoch 027/050 | Loss 0.0091 | Win/lose count 10.5/2.0 (8.5)\n",
      "Epoch 028/050 | Loss 0.0110 | Win/lose count 6.0/2.0 (4.0)\n",
      "Epoch 029/050 | Loss 0.0072 | Win/lose count 8.0/3.0 (5.0)\n",
      "Epoch 030/050 | Loss 0.0154 | Win/lose count 13.0/4.0 (9.0)\n",
      "Epoch 031/050 | Loss 0.0136 | Win/lose count 12.5/4.0 (8.5)\n",
      "Epoch 032/050 | Loss 0.0096 | Win/lose count 11.0/2.0 (9.0)\n",
      "Epoch 033/050 | Loss 0.0129 | Win/lose count 12.5/4.0 (8.5)\n",
      "Epoch 034/050 | Loss 0.0108 | Win/lose count 6.0/4.0 (2.0)\n",
      "Epoch 035/050 | Loss 0.0088 | Win/lose count 11.0/6.0 (5.0)\n",
      "Epoch 036/050 | Loss 0.0106 | Win/lose count 14.0/0 (14.0)\n",
      "Epoch 037/050 | Loss 0.0070 | Win/lose count 15.0/2.0 (13.0)\n",
      "Epoch 038/050 | Loss 0.1810 | Win/lose count 16.5/1.0 (15.5)\n",
      "Epoch 039/050 | Loss 0.0099 | Win/lose count 9.5/0 (9.5)\n",
      "Epoch 040/050 | Loss 0.0130 | Win/lose count 5.5/0 (5.5)\n",
      "Epoch 041/050 | Loss 0.1740 | Win/lose count 14.5/4.0 (10.5)\n",
      "Epoch 042/050 | Loss 0.0128 | Win/lose count 17.0/1.0 (16.0)\n",
      "Epoch 043/050 | Loss 0.0080 | Win/lose count 12.5/2.0 (10.5)\n",
      "Epoch 044/050 | Loss 0.1655 | Win/lose count 10.0/5.0 (5.0)\n",
      "Epoch 045/050 | Loss 0.0077 | Win/lose count 9.5/1.0 (8.5)\n",
      "Epoch 046/050 | Loss 0.0084 | Win/lose count 19.5/3.0 (16.5)\n",
      "Epoch 047/050 | Loss 0.0086 | Win/lose count 10.5/1.0 (9.5)\n",
      "Epoch 048/050 | Loss 0.3047 | Win/lose count 6.0/2.0 (4.0)\n",
      "Epoch 049/050 | Loss 0.0131 | Win/lose count 12.5/2.0 (10.5)\n"
     ]
    },
    {
     "data": {
      "text/html": [
       "<video alt=\"test\" controls>\n",
       "                <source src=\"data:video/mp4;base64,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\" type=\"video/mp4\" />\n",
       "             </video>"
      ],
      "text/plain": [
       "<IPython.core.display.HTML object>"
      ]
     },
     "execution_count": 13,
     "metadata": {},
     "output_type": "execute_result"
    }
   ],
   "source": [
    "env = Environment(grid_size=size, max_time=T, temperature=0.3)\n",
    "agent = DQN_FC(size, lr=.1, epsilon = 0.1, memory_size=2000, batch_size = 32)\n",
    "train(agent, env, epochs_train, prefix='fc_train')\n",
    "HTML(display_videos('fc_train50.mp4'))"
   ]
  },
  {
   "cell_type": "markdown",
   "metadata": {
    "colab_type": "text",
    "id": "ZOiK_TWkAftB"
   },
   "source": [
    "***\n",
    "***\n",
    "__Question 8__ Implement the DQN training algorithm using a CNN (for example, 2 convolutional layers and one final fully connected layer)."
   ]
  },
  {
   "cell_type": "code",
   "execution_count": 14,
   "metadata": {
    "colab": {},
    "colab_type": "code",
    "id": "ukrNjmRrAftD"
   },
   "outputs": [],
   "source": [
    "class DQN_CNN(DQN):\n",
    "    def __init__(self, *args,lr=0.1,**kwargs):\n",
    "        super(DQN_CNN, self).__init__(*args,**kwargs)\n",
    "        \n",
    "        ###### FILL IN\n",
    "        model = Sequential()\n",
    "        model.add(Conv2D(32, kernel_size=3, activation='relu', kernel_regularizer = l2(1e-4), input_shape=(5,5,self.n_state, )))\n",
    "        model.add(Conv2D(64, kernel_size=3, activation='relu', kernel_regularizer = l2(1e-4)))\n",
    "        model.add(Flatten())\n",
    "        model.add(Dense(units = 4, kernel_regularizer = l2(1e-4)))\n",
    "    \n",
    "        model.compile(sgd(lr=lr, decay=1e-4, momentum= 0.0), \"mse\")\n",
    "        self.model = model"
   ]
  },
  {
   "cell_type": "code",
   "execution_count": 15,
   "metadata": {
    "colab": {},
    "colab_type": "code",
    "id": "RL2CPDOQAftF"
   },
   "outputs": [
    {
     "name": "stdout",
     "output_type": "stream",
     "text": [
      "Epoch 000/050 | Loss 0.0067 | Win/lose count 1.0/6.0 (-5.0)\n",
      "Epoch 001/050 | Loss 0.0067 | Win/lose count 5.0/3.0 (2.0)\n",
      "Epoch 002/050 | Loss 0.0059 | Win/lose count 4.0/1.0 (3.0)\n",
      "Epoch 003/050 | Loss 0.0144 | Win/lose count 1.5/2.0 (-0.5)\n",
      "Epoch 004/050 | Loss 0.0059 | Win/lose count 2.5/2.0 (0.5)\n",
      "Epoch 005/050 | Loss 0.0092 | Win/lose count 1.0/1.0 (0.0)\n",
      "Epoch 006/050 | Loss 0.0269 | Win/lose count 1.5/4.0 (-2.5)\n",
      "Epoch 007/050 | Loss 0.0063 | Win/lose count 5.0/4.0 (1.0)\n",
      "Epoch 008/050 | Loss 0.0088 | Win/lose count 3.0/0 (3.0)\n",
      "Epoch 009/050 | Loss 0.0101 | Win/lose count 2.5/3.0 (-0.5)\n",
      "Epoch 010/050 | Loss 0.0080 | Win/lose count 3.0/2.0 (1.0)\n",
      "Epoch 011/050 | Loss 0.0086 | Win/lose count 3.0/2.0 (1.0)\n",
      "Epoch 012/050 | Loss 0.0111 | Win/lose count 3.5/3.0 (0.5)\n",
      "Epoch 013/050 | Loss 0.0092 | Win/lose count 4.0/0 (4.0)\n",
      "Epoch 014/050 | Loss 0.0125 | Win/lose count 3.0/2.0 (1.0)\n",
      "Epoch 015/050 | Loss 0.0102 | Win/lose count 5.0/3.0 (2.0)\n",
      "Epoch 016/050 | Loss 0.1755 | Win/lose count 2.5/2.0 (0.5)\n",
      "Epoch 017/050 | Loss 0.0105 | Win/lose count 6.5/4.0 (2.5)\n",
      "Epoch 018/050 | Loss 0.0083 | Win/lose count 12.0/1.0 (11.0)\n",
      "Epoch 019/050 | Loss 0.0109 | Win/lose count 5.0/3.0 (2.0)\n",
      "Epoch 020/050 | Loss 0.0099 | Win/lose count 6.5/1.0 (5.5)\n",
      "Epoch 021/050 | Loss 0.0088 | Win/lose count 6.5/3.0 (3.5)\n",
      "Epoch 022/050 | Loss 0.1594 | Win/lose count 3.0/2.0 (1.0)\n",
      "Epoch 023/050 | Loss 0.0093 | Win/lose count 8.0/2.0 (6.0)\n",
      "Epoch 024/050 | Loss 0.0070 | Win/lose count 7.0/2.0 (5.0)\n",
      "Epoch 025/050 | Loss 0.0099 | Win/lose count 12.0/5.0 (7.0)\n",
      "Epoch 026/050 | Loss 0.2098 | Win/lose count 12.0/6.0 (6.0)\n",
      "Epoch 027/050 | Loss 0.0083 | Win/lose count 11.0/3.0 (8.0)\n",
      "Epoch 028/050 | Loss 0.0115 | Win/lose count 5.0/2.0 (3.0)\n",
      "Epoch 029/050 | Loss 0.1026 | Win/lose count 16.5/4.0 (12.5)\n",
      "Epoch 030/050 | Loss 0.0135 | Win/lose count 12.0/2.0 (10.0)\n",
      "Epoch 031/050 | Loss 0.0102 | Win/lose count 4.5/2.0 (2.5)\n",
      "Epoch 032/050 | Loss 0.0099 | Win/lose count 3.5/2.0 (1.5)\n",
      "Epoch 033/050 | Loss 0.0078 | Win/lose count 18.5/4.0 (14.5)\n",
      "Epoch 034/050 | Loss 0.0114 | Win/lose count 12.0/6.0 (6.0)\n",
      "Epoch 035/050 | Loss 0.0123 | Win/lose count 20.0/1.0 (19.0)\n",
      "Epoch 036/050 | Loss 0.0151 | Win/lose count 4.5/2.0 (2.5)\n",
      "Epoch 037/050 | Loss 0.0084 | Win/lose count 3.5/2.0 (1.5)\n",
      "Epoch 038/050 | Loss 0.0089 | Win/lose count 12.0/3.0 (9.0)\n",
      "Epoch 039/050 | Loss 0.0089 | Win/lose count 20.0/4.0 (16.0)\n",
      "Epoch 040/050 | Loss 0.0081 | Win/lose count 15.5/1.0 (14.5)\n",
      "Epoch 041/050 | Loss 0.0116 | Win/lose count 22.0/2.0 (20.0)\n",
      "Epoch 042/050 | Loss 0.0093 | Win/lose count 25.5/5.0 (20.5)\n",
      "Epoch 043/050 | Loss 0.0113 | Win/lose count 8.5/2.0 (6.5)\n",
      "Epoch 044/050 | Loss 0.0081 | Win/lose count 3.5/2.0 (1.5)\n",
      "Epoch 045/050 | Loss 0.0086 | Win/lose count 18.5/8.0 (10.5)\n",
      "Epoch 046/050 | Loss 0.0094 | Win/lose count 23.0/1.0 (22.0)\n",
      "Epoch 047/050 | Loss 0.0117 | Win/lose count 8.5/3.0 (5.5)\n",
      "Epoch 048/050 | Loss 0.0110 | Win/lose count 7.5/4.0 (3.5)\n",
      "Epoch 049/050 | Loss 0.0102 | Win/lose count 3.5/2.0 (1.5)\n"
     ]
    },
    {
     "data": {
      "text/html": [
       "<video alt=\"test\" controls>\n",
       "                <source src=\"data:video/mp4;base64,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\" type=\"video/mp4\" />\n",
       "             </video>"
      ],
      "text/plain": [
       "<IPython.core.display.HTML object>"
      ]
     },
     "execution_count": 15,
     "metadata": {},
     "output_type": "execute_result"
    }
   ],
   "source": [
    "env = Environment(grid_size=size, max_time=T, temperature=0.3)\n",
    "agent = DQN_CNN(size, lr=.1, epsilon = 0.1, memory_size=2000, batch_size = 32)\n",
    "train(agent,env,epochs_train,prefix='cnn_train')\n",
    "HTML(display_videos('cnn_train50.mp4'))"
   ]
  },
  {
   "cell_type": "markdown",
   "metadata": {
    "colab_type": "text",
    "id": "aCW5Tz25AftI"
   },
   "source": [
    "***\n",
    "***\n",
    "__Question 9__ Test both algorithms and compare their performances. Which issue(s) do you observe? Observe also different behaviors by changing the temperature."
   ]
  },
  {
   "cell_type": "code",
   "execution_count": 16,
   "metadata": {
    "colab": {},
    "colab_type": "code",
    "id": "gpodPH3HAftI"
   },
   "outputs": [
    {
     "name": "stdout",
     "output_type": "stream",
     "text": [
      "Test of the CNN\n",
      "Win/lose count 9.5/0. Average score (9.5)\n",
      "Win/lose count 13.5/0. Average score (11.5)\n",
      "Win/lose count 7.0/0. Average score (10.0)\n",
      "Win/lose count 0.5/0. Average score (7.625)\n",
      "Win/lose count 6.0/0. Average score (7.3)\n",
      "Win/lose count 9.0/0. Average score (7.583333333333333)\n",
      "Win/lose count 7.0/0. Average score (7.5)\n",
      "Win/lose count 2.0/0. Average score (6.8125)\n",
      "Win/lose count 3.5/0. Average score (6.444444444444445)\n",
      "Win/lose count 2.0/0. Average score (6.0)\n",
      "Win/lose count 3.0/0. Average score (5.7272727272727275)\n",
      "Win/lose count 11.0/1.0. Average score (6.083333333333333)\n",
      "Win/lose count 2.0/1.0. Average score (5.6923076923076925)\n",
      "Win/lose count 6.5/0. Average score (5.75)\n",
      "Win/lose count 1.0/0. Average score (5.433333333333334)\n",
      "Final score: 5.433333333333334\n",
      "Test of the FC\n",
      "Win/lose count 7.5/0. Average score (7.5)\n",
      "Win/lose count 5.5/0. Average score (6.5)\n",
      "Win/lose count 3.0/0. Average score (5.333333333333333)\n",
      "Win/lose count 9.0/0. Average score (6.25)\n",
      "Win/lose count 1.0/0. Average score (5.2)\n",
      "Win/lose count 2.5/0. Average score (4.75)\n",
      "Win/lose count 6.5/1.0. Average score (4.857142857142857)\n",
      "Win/lose count 12.0/0. Average score (5.75)\n",
      "Win/lose count 7.5/0. Average score (5.944444444444445)\n",
      "Win/lose count 3.0/0. Average score (5.65)\n",
      "Win/lose count 5.5/0. Average score (5.636363636363637)\n",
      "Win/lose count 1.5/0. Average score (5.291666666666667)\n",
      "Win/lose count 13.0/0. Average score (5.884615384615385)\n",
      "Win/lose count 3.0/0. Average score (5.678571428571429)\n",
      "Win/lose count 6.5/0. Average score (5.733333333333333)\n",
      "Final score: 5.733333333333333\n"
     ]
    }
   ],
   "source": [
    "env = Environment(grid_size=size, max_time=T,temperature=0.3)\n",
    "agent_cnn = DQN_CNN(size, lr=.1, epsilon = 0.0, memory_size=2000, batch_size = 32)\n",
    "agent_cnn.load(name_weights='cnn_trainmodel.h5',name_model='cnn_trainmodel.json')\n",
    "\n",
    "agent_fc = DQN_FC(size, lr=.1, epsilon = 0.0, memory_size=2000, batch_size = 32)\n",
    "agent_fc.load(name_weights='fc_trainmodel.h5',name_model='fc_trainmodel.json')\n",
    "\n",
    "print('Test of the CNN')\n",
    "test(agent_cnn,env,epochs_test,prefix='cnn_test')\n",
    "print('Test of the FC')\n",
    "test(agent_fc,env,epochs_test,prefix='fc_test')"
   ]
  },
  {
   "cell_type": "code",
   "execution_count": 17,
   "metadata": {
    "colab": {},
    "colab_type": "code",
    "id": "RmYbZr9_AftL"
   },
   "outputs": [
    {
     "data": {
      "text/html": [
       "<video alt=\"test\" controls>\n",
       "                <source src=\"data:video/mp4;base64,AAAAIGZ0eXBpc29tAAACAGlzb21pc28yYXZjMW1wNDEAAAAIZnJlZQAAF8xtZGF0AAACrQYF//+p3EXpvebZSLeWLNgg2SPu73gyNjQgLSBjb3JlIDE1NyByMjkzNSA1NDVkZTJmIC0gSC4yNjQvTVBFRy00IEFWQyBjb2RlYyAtIENvcHlsZWZ0IDIwMDMtMjAxOCAtIGh0dHA6Ly93d3cudmlkZW9sYW4ub3JnL3gyNjQuaHRtbCAtIG9wdGlvbnM6IGNhYmFjPTEgcmVmPTMgZGVibG9jaz0xOjA6MCBhbmFseXNlPTB4MToweDExMSBtZT1oZXggc3VibWU9NyBwc3k9MSBwc3lfcmQ9MS4wMDowLjAwIG1peGVkX3JlZj0xIG1lX3JhbmdlPTE2IGNocm9tYV9tZT0xIHRyZWxsaXM9MSA4eDhkY3Q9MCBjcW09MCBkZWFkem9uZT0yMSwxMSBmYXN0X3Bza2lwPTEgY2hyb21hX3FwX29mZnNldD00IHRocmVhZHM9OCBsb29rYWhlYWRfdGhyZWFkcz0xIHNsaWNlZF90aHJlYWRzPTAgbnI9MCBkZWNpbWF0ZT0xIGludGVybGFjZWQ9MCBibHVyYXlfY29tcGF0PTAgY29uc3RyYWluZWRfaW50cmE9MCBiZnJhbWVzPTMgYl9weXJhbWlkPTIgYl9hZGFwdD0xIGJfYmlhcz0wIGRpcmVjdD0xIHdlaWdodGI9MSBvcGVuX2dvcD0wIHdlaWdodHA9MiBrZXlpbnQ9MjUwIGtleWludF9taW49MjUgc2NlbmVjdXQ9NDAgaW50cmFfcmVmcmVzaD0wIHJjX2xvb2thaGVhZD00MCByYz1jcmYgbWJ0cmVlPTEgY3JmPTIzLjAgcWNvbXA9MC42MCBxcG1pbj0wIHFwbWF4PTY5IHFwc3RlcD00IGlwX3JhdGlvPTEuNDAgYXE9MToxLjAwAIAAAALDZYiEADP//vaG+BTYUyP+T7/8I/+5H7cfWfrixkIJvrVeQ9GAMl8a/5lGYaXpyc8t7R+vTNAEZz8ZS8pY/spyzVFwWHwKXAT75llFqRAcpX3GoyqjKTtVeFSsZZQhQqj0Zfrkn1NgW1Rw1WPrlutfcVX1w5upoHH5dsS6KnO3leeBvXuIJqZONPNAx9Po1OiGqLOzbBxhP7fTTuAWDes7MQJhDz3K7Hzl+w7Bi2RFpgePzhI1bs/PXACxhgttCobhANWd3H2GrsC4asI06jIC/GT1zyTSBieLooP0jxEXoKtFF6VZKvnYK2xWGt5JFhjdo+tl4vQJjloxtp1kh4f2rPGe2Iuc/WUmPVFIfKkRoCicpG+STnfrmVEzOoGQSsj9UH8g8PjWT4l8yhKYub6eD9JKonrjiWIHhvVBeAKAdWyz9mSu6Nu+fb1/KbTJPYk4OVV8UaRkUN+3pbBFDQRja3d2TCFrdI0P69ucylRPvnPGHDeSMdqoZwBN8SrASJ/LAWun8lZ2/lXEbFgo4df1LqOt2J5KTBXc7ZaRBwKlY+Fw3rZrMoEFTU/5SH+EQMfJKBmocxHLja6AJBMUughoqTI9/yi0z1taI7Lo53SEbvk4MwqNIyAIKmQRmJyOndvLXhnwGojf9FD6FmecCrXmKfAFN1WLStrC2buIAwQ8EepcsHeYGoZxhJLGyTr5cUNMtgaDulAGFzSN7MhVY21iXfe1snvnuCwgEkhXEMP1sBAWz643v8dwca4Aqv3B/WUAaTROW0EiiXdOzMXVymzp91wApxO3G0+Gb33z0TC5560deSyOWjlrOc/TzUq7w84aV1G6CAFgGqZcKsjCV9XW0HmXZWy36eD1z2Exw3GedcwbTOzqxzSntfo6hKZ3V5o8p40HWXRQHublzCdp/qvElam0Qcq5QwGGi8Tg9ii4WQAABoUAAAAVQZohbEN//qeEAAYeQUdPa4oAe4twAAAAGEGaQjwhkymEN//+p4QABkXVpBCJ/lxVgQAAABxBmmVJ4Q8mUwIb//6nhAAGT9g9rHedvATX+BbAAAAAEkGeg0URPCv/AAUdsAQCmAdywQAAAA4BnqRqQr8ABR+Uq6nU9QAAABpBmqZJqEFomUwIb//+p4QACWoAs22z7PnrQQAAAB5BmspJ4QpSZTAhv/6nhAAJd8dPfLQxP0toNSEYWeEAAAAVQZ7oRTRML/8ABa2NujKQmc/drEjTAAAAEAGfB3RCvwAHl4YDJLf7LMAAAAAQAZ8JakK/AAUewjyXM+VwgQAAABlBmwxJqEFomUwU8N/+p4QACWraXa8dPtjqAAAAEAGfK2pCvwAHmZ8xuhyQePgAAAAYQZstSeEKUmUwIb/+p4QACXfHTH+H1bgNAAAAHkGbT0nhDomUwU0TDv/+qZYABKfpdPP98cxBTEP5gQAAABABn25qQr8AB2wiZpvpIPJxAAAAGEGbc0nhDyZTAhv//qeEAAkqg7291P2x/AAAABBBn5FFETwv/wAFioEVpRuMAAAADwGfsHRCvwAFHtHeecaUgQAAABABn7JqQr8AB5ecNe80rRnAAAAAG0GbtUmoQWiZTBTw7/6plgAEp+l08/3xxTI/8AAAABABn9RqQr8AB2wiZpvpIPJxAAAAGEGb2UnhClJlMCG//qeEAAkqg7291P2x/AAAABBBn/dFNEwv/wAFioEVpRuNAAAADwGeFnRCvwAFHtHeecaUgQAAABABnhhqQr8AB5ecNe80rRnAAAAAG0GaG0moQWiZTBTw7/6plgAEp+l08/3xxTI/8QAAABABnjpqQr8AB2wiZpvpIPJwAAAAGEGaP0nhClJlMCG//qeEAAkqg7291P2x/QAAABBBnl1FNEwv/wAFioEVpRuNAAAADwGefHRCvwAFHtHeecaUgAAAABABnn5qQr8AB5ecNe80rRnAAAAAG0GaYUmoQWiZTBTw7/6plgAEp+l08/3xxTI/8QAAABABnoBqQr8AB2wiZpvpIPJwAAAAGEGahUnhClJlMCG//qeEAAkqg7291P2x/QAAABBBnqNFNEwv/wAFioEVpRuMAAAADwGewnRCvwAFHtHeecaUgQAAABABnsRqQr8AB5ecNe80rRnBAAAAG0Gax0moQWiZTBTw7/6plgAEp+l08/3xxTI/8QAAABABnuZqQr8AB2wiZpvpIPJxAAAAGEGa60nhClJlMCG//qeEAAkqg7291P2x/AAAABBBnwlFNEwv/wAFioEVpRuMAAAADwGfKHRCvwAFHtHeecaUgQAAABABnypqQr8AB5ecNe80rRnAAAAAG0GbLUmoQWiZTBTw7/6plgAEp+l08/3xxTI/8AAAABABn0xqQr8AB2wiZpvpIPJxAAAAGEGbUUnhClJlMCG//qeEAAkqg7291P2x/QAAABBBn29FNEwv/wAFioEVpRuNAAAADwGfjnRCvwAFHtHeecaUgAAAABABn5BqQr8AB5ecNe80rRnAAAAAG0Gbk0moQWiZTBTw7/6plgAEp+l08/3xxTI/8QAAABABn7JqQr8AB2wiZpvpIPJwAAAAGEGbt0nhClJlMCG//qeEAAkqg7291P2x/AAAABBBn9VFNEwv/wAFioEVpRuNAAAADwGf9HRCvwAFHtHeecaUgAAAABABn/ZqQr8AB5ecNe80rRnBAAAAG0Gb+UmoQWiZTBTw7/6plgAEp+l08/3xxTI/8QAAABABnhhqQr8AB2wiZpvpIPJwAAAAGEGaHUnhClJlMCG//qeEAAkqg7291P2x/QAAABBBnjtFNEwv/wAFioEVpRuMAAAADwGeWnRCvwAFHtHeecaUgQAAABABnlxqQr8AB5ecNe80rRnBAAAAG0GaX0moQWiZTBTw7/6plgAEp+l08/3xxTI/8AAAABABnn5qQr8AB2wiZpvpIPJwAAAAGEGaY0nhClJlMCG//qeEAAkqg7291P2x/QAAABBBnoFFNEwv/wAFioEVpRuMAAAADwGeoHRCvwAFHtHeecaUgQAAABABnqJqQr8AB5ecNe80rRnAAAAAG0GapUmoQWiZTBTw7/6plgAEp+l08/3xxTI/8QAAABABnsRqQr8AB2wiZpvpIPJxAAAAGEGayUnhClJlMCG//qeEAAkqg7291P2x/QAAABBBnudFNEwv/wAFioEVpRuNAAAADwGfBnRCvwAFHtHeecaUgAAAABABnwhqQr8AB5ecNe80rRnAAAAAG0GbC0moQWiZTBTw7/6plgAEp+l08/3xxTI/8QAAABABnypqQr8AB2wiZpvpIPJwAAAAGEGbL0nhClJlMCG//qeEAAkqg7291P2x/AAAABBBn01FNEwv/wAFioEVpRuNAAAADwGfbHRCvwAFHtHeecaUgQAAABABn25qQr8AB5ecNe80rRnBAAAAG0GbcUmoQWiZTBTw7/6plgAEp+l08/3xxTI/8AAAABABn5BqQr8AB2wiZpvpIPJwAAAAGEGblUnhClJlMCG//qeEAAkqg7291P2x/QAAABBBn7NFNEwv/wAFioEVpRuMAAAADwGf0nRCvwAFHtHeecaUgAAAABABn9RqQr8AB5ecNe80rRnBAAAAG0Gb10moQWiZTBTw7/6plgAEp+l08/3xxTI/8AAAABABn/ZqQr8AB2wiZpvpIPJxAAAAGEGb+0nhClJlMCG//qeEAAkqg7291P2x/QAAABBBnhlFNEwv/wAFioEVpRuMAAAADwGeOHRCvwAFHtHeecaUgQAAABABnjpqQr8AB5ecNe80rRnAAAAAG0GaPUmoQWiZTBTw7/6plgAEp+l08/3xxTI/8QAAABABnlxqQr8AB2wiZpvpIPJxAAAAGEGaQUnhClJlMCG//qeEAAkqg7291P2x/AAAABBBnn9FNEwv/wAFioEVpRuMAAAADwGennRCvwAFHtHeecaUgQAAABABnoBqQr8AB5ecNe80rRnAAAAAG0Gag0moQWiZTBTw7/6plgAEp+l08/3xxTI/8QAAABABnqJqQr8AB2wiZpvpIPJwAAAAGEGap0nhClJlMCG//qeEAAkqg7291P2x/QAAABBBnsVFNEwv/wAFioEVpRuNAAAADwGe5HRCvwAFHtHeecaUgQAAABABnuZqQr8AB5ecNe80rRnBAAAAG0Ga6UmoQWiZTBTw7/6plgAEp+l08/3xxTI/8AAAABABnwhqQr8AB2wiZpvpIPJwAAAAGEGbDUnhClJlMCG//qeEAAkqg7291P2x/QAAABBBnytFNEwv/wAFioEVpRuMAAAADwGfSnRCvwAFHtHeecaUgAAAABABn0xqQr8AB5ecNe80rRnBAAAAG0GbT0moQWiZTBTw7/6plgAEp+l08/3xxTI/8QAAABABn25qQr8AB2wiZpvpIPJxAAAAGEGbc0nhClJlMCG//qeEAAkqg7291P2x/AAAABBBn5FFNEwv/wAFioEVpRuMAAAADwGfsHRCvwAFHtHeecaUgQAAABABn7JqQr8AB5ecNe80rRnAAAAAG0GbtUmoQWiZTBTw7/6plgAEp+l08/3xxTI/8AAAABABn9RqQr8AB2wiZpvpIPJxAAAAGEGb2UnhClJlMCG//qeEAAkqg7291P2x/AAAABBBn/dFNEwv/wAFioEVpRuNAAAADwGeFnRCvwAFHtHeecaUgQAAABABnhhqQr8AB5ecNe80rRnAAAAAG0GaG0moQWiZTBTw7/6plgAEp+l08/3xxTI/8QAAABABnjpqQr8AB2wiZpvpIPJwAAAAGEGaP0nhClJlMCG//qeEAAkqg7291P2x/QAAABBBnl1FNEwv/wAFioEVpRuNAAAADwGefHRCvwAFHtHeecaUgAAAABABnn5qQr8AB5ecNe80rRnAAAAAG0GaYUmoQWiZTBTw7/6plgAEp+l08/3xxTI/8QAAABABnoBqQr8AB2wiZpvpIPJwAAAAGEGahUnhClJlMCG//qeEAAkqg7291P2x/QAAABBBnqNFNEwv/wAFioEVpRuMAAAADwGewnRCvwAFHtHeecaUgQAAABABnsRqQr8AB5ecNe80rRnBAAAAG0Gax0moQWiZTBTw7/6plgAEp+l08/3xxTI/8QAAABABnuZqQr8AB2wiZpvpIPJxAAAAGEGa60nhClJlMCG//qeEAAkqg7291P2x/AAAABBBnwlFNEwv/wAFioEVpRuMAAAADwGfKHRCvwAFHtHeecaUgQAAABABnypqQr8AB5ecNe80rRnAAAAAG0GbLUmoQWiZTBTw7/6plgAEp+l08/3xxTI/8AAAABABn0xqQr8AB2wiZpvpIPJxAAAAGEGbUUnhClJlMCG//qeEAAkqg7291P2x/QAAABBBn29FNEwv/wAFioEVpRuNAAAADwGfjnRCvwAFHtHeecaUgAAAABABn5BqQr8AB5ecNe80rRnAAAAAG0Gbk0moQWiZTBTw7/6plgAEp+l08/3xxTI/8QAAABABn7JqQr8AB2wiZpvpIPJwAAAAGEGbt0nhClJlMCG//qeEAAkqg7291P2x/AAAABBBn9VFNEwv/wAFioEVpRuNAAAADwGf9HRCvwAFHtHeecaUgAAAABABn/ZqQr8AB5ecNe80rRnBAAAAG0Gb+UmoQWiZTBTw7/6plgAEp+l08/3xxTI/8QAAABABnhhqQr8AB2wiZpvpIPJwAAAAGEGaHUnhClJlMCG//qeEAAkqg7291P2x/QAAABBBnjtFNEwv/wAFioEVpRuMAAAADwGeWnRCvwAFHtHeecaUgQAAABABnlxqQr8AB5ecNe80rRnBAAAAG0GaX0moQWiZTBTw7/6plgAEp+l08/3xxTI/8AAAABABnn5qQr8AB2wiZpvpIPJwAAAAGEGaY0nhClJlMCG//qeEAAkqg7291P2x/QAAABBBnoFFNEwv/wAFioEVpRuMAAAADwGeoHRCvwAFHtHeecaUgQAAABABnqJqQr8AB5ecNe80rRnAAAAAG0GapUmoQWiZTBTw7/6plgAEp+l08/3xxTI/8QAAABABnsRqQr8AB2wiZpvpIPJxAAAAGEGayUnhClJlMCG//qeEAAkqg7291P2x/QAAABBBnudFNEwv/wAFioEVpRuNAAAADwGfBnRCvwAFHtHeecaUgAAAABABnwhqQr8AB5ecNe80rRnAAAAAG0GbC0moQWiZTBTw7/6plgAEp+l08/3xxTI/8QAAABABnypqQr8AB2wiZpvpIPJwAAAAGEGbL0nhClJlMCG//qeEAAkqg7291P2x/AAAABBBn01FNEwv/wAFioEVpRuNAAAADwGfbHRCvwAFHtHeecaUgQAAABABn25qQr8AB5ecNe80rRnBAAAAG0GbcUmoQWiZTBTw7/6plgAEp+l08/3xxTI/8AAAABABn5BqQr8AB2wiZpvpIPJwAAAAGEGblUnhClJlMCG//qeEAAkqg7291P2x/QAAABBBn7NFNEwv/wAFioEVpRuMAAAADwGf0nRCvwAFHtHeecaUgAAAABABn9RqQr8AB5ecNe80rRnBAAAAG0Gb10moQWiZTBTw7/6plgAEp+l08/3xxTI/8AAAABABn/ZqQr8AB2wiZpvpIPJxAAAAGEGb+0nhClJlMCG//qeEAAkqg7291P2x/QAAABBBnhlFNEwv/wAFioEVpRuMAAAADwGeOHRCvwAFHtHeecaUgQAAABABnjpqQr8AB5ecNe80rRnAAAAAG0GaPUmoQWiZTBTw3/6nhAAJN9Lozf5Itw2P4QAAABABnlxqQr8AB2wiZpvpIPJxAAAAGEGaQUnhClJlMCG//qeEAAkqg7291P2x/AAAABBBnn9FNEwv/wAFioEVpRuMAAAADwGennRCvwAFHtHeecaUgQAAABABnoBqQr8AB5ecNe80rRnAAAAAG0Gag0moQWiZTBTw3/6nhAAJN9Lozf5Itw2P4QAAABABnqJqQr8AB2wiZpvpIPJwAAAAGEGap0nhClJlMCGf/p4QACOpF+R19/TfYQAAABBBnsVFNEwv/wAFioEVpRuNAAAADwGe5HRCvwAFHtHeecaUgQAAABABnuZqQr8AB5ecNe80rRnBAAAAG0Ga6UuoQhBaJEYIKAfyAf2HgFPCv/44QAARcAAAACUBnwhqQr8Cr2PtQcTdqsNJJuWqhgcstbvNKiCaQW9afpaMFcXAAAAMcG1vb3YAAABsbXZoZAAAAAAAAAAAAAAAAAAAA+gAAB+QAAEAAAEAAAAAAAAAAAAAAAABAAAAAAAAAAAAAAAAAAAAAQAAAAAAAAAAAAAAAAAAQAAAAAAAAAAAAAAAAAAAAAAAAAAAAAAAAAAAAAAAAAIAAAuadHJhawAAAFx0a2hkAAAAAwAAAAAAAAAAAAAAAQAAAAAAAB+QAAAAAAAAAAAAAAAAAAAAAAABAAAAAAAAAAAAAAAAAAAAAQAAAAAAAAAAAAAAAAAAQAAAAAEQAAABEAAAAAAAJGVkdHMAAAAcZWxzdAAAAAAAAAABAAAfkAAABAAAAQAAAAALEm1kaWEAAAAgbWRoZAAAAAAAAAAAAAAAAAAAMgAAAZQAVcQAAAAAAC1oZGxyAAAAAAAAAAB2aWRlAAAAAAAAAAAAAAAAVmlkZW9IYW5kbGVyAAAACr1taW5mAAAAFHZtaGQAAAABAAAAAAAAAAAAAAAkZGluZgAAABxkcmVmAAAAAAAAAAEAAAAMdXJsIAAAAAEAAAp9c3RibAAAAJVzdHNkAAAAAAAAAAEAAACFYXZjMQAAAAAAAAABAAAAAAAAAAAAAAAAAAAAAAEQARAASAAAAEgAAAAAAAAAAQAAAAAAAAAAAAAAAAAAAAAAAAAAAAAAAAAAAAAAAAAAABj//wAAAC9hdmNDAfQADf/hABdn9AANkZsoIhHQgAAAAwCAAAAZB4oUywEABWjr48RIAAAAGHN0dHMAAAAAAAAAAQAAAMoAAAIAAAAAFHN0c3MAAAAAAAAAAQAAAAEAAAZIY3R0cwAAAAAAAADHAAAAAwAABAAAAAABAAAIAAAAAAIAAAIAAAAAAQAABAAAAAABAAAKAAAAAAEAAAQAAAAAAQAAAAAAAAABAAACAAAAAAEAAAYAAAAAAQAAAgAAAAABAAAEAAAAAAEAAAYAAAAAAQAAAgAAAAABAAAKAAAAAAEAAAQAAAAAAQAAAAAAAAABAAACAAAAAAEAAAYAAAAAAQAAAgAAAAABAAAKAAAAAAEAAAQAAAAAAQAAAAAAAAABAAACAAAAAAEAAAYAAAAAAQAAAgAAAAABAAAKAAAAAAEAAAQAAAAAAQAAAAAAAAABAAACAAAAAAEAAAYAAAAAAQAAAgAAAAABAAAKAAAAAAEAAAQAAAAAAQAAAAAAAAABAAACAAAAAAEAAAYAAAAAAQAAAgAAAAABAAAKAAAAAAEAAAQAAAAAAQAAAAAAAAABAAACAAAAAAEAAAYAAAAAAQAAAgAAAAABAAAKAAAAAAEAAAQAAAAAAQAAAAAAAAABAAACAAAAAAEAAAYAAAAAAQAAAgAAAAABAAAKAAAAAAEAAAQAAAAAAQAAAAAAAAABAAACAAAAAAEAAAYAAAAAAQAAAgAAAAABAAAKAAAAAAEAAAQAAAAAAQAAAAAAAAABAAACAAAAAAEAAAYAAAAAAQAAAgAAAAABAAAKAAAAAAEAAAQAAAAAAQAAAAAAAAABAAACAAAAAAEAAAYAAAAAAQAAAgAAAAABAAAKAAAAAAEAAAQAAAAAAQAAAAAAAAABAAACAAAAAAEAAAYAAAAAAQAAAgAAAAABAAAKAAAAAAEAAAQAAAAAAQAAAAAAAAABAAACAAAAAAEAAAYAAAAAAQAAAgAAAAABAAAKAAAAAAEAAAQAAAAAAQAAAAAAAAABAAACAAAAAAEAAAYAAAAAAQAAAgAAAAABAAAKAAAAAAEAAAQAAAAAAQAAAAAAAAABAAACAAAAAAEAAAYAAAAAAQAAAgAAAAABAAAKAAAAAAEAAAQAAAAAAQAAAAAAAAABAAACAAAAAAEAAAYAAAAAAQAAAgAAAAABAAAKAAAAAAEAAAQAAAAAAQAAAAAAAAABAAACAAAAAAEAAAYAAAAAAQAAAgAAAAABAAAKAAAAAAEAAAQAAAAAAQAAAAAAAAABAAACAAAAAAEAAAYAAAAAAQAAAgAAAAABAAAKAAAAAAEAAAQAAAAAAQAAAAAAAAABAAACAAAAAAEAAAYAAAAAAQAAAgAAAAABAAAKAAAAAAEAAAQAAAAAAQAAAAAAAAABAAACAAAAAAEAAAYAAAAAAQAAAgAAAAABAAAKAAAAAAEAAAQAAAAAAQAAAAAAAAABAAACAAAAAAEAAAYAAAAAAQAAAgAAAAABAAAKAAAAAAEAAAQAAAAAAQAAAAAAAAABAAACAAAAAAEAAAYAAAAAAQAAAgAAAAABAAAKAAAAAAEAAAQAAAAAAQAAAAAAAAABAAACAAAAAAEAAAYAAAAAAQAAAgAAAAABAAAKAAAAAAEAAAQAAAAAAQAAAAAAAAABAAACAAAAAAEAAAYAAAAAAQAAAgAAAAABAAAKAAAAAAEAAAQAAAAAAQAAAAAAAAABAAACAAAAAAEAAAYAAAAAAQAAAgAAAAABAAAKAAAAAAEAAAQAAAAAAQAAAAAAAAABAAACAAAAAAEAAAYAAAAAAQAAAgAAAAABAAAKAAAAAAEAAAQAAAAAAQAAAAAAAAABAAACAAAAAAEAAAYAAAAAAQAAAgAAAAABAAAKAAAAAAEAAAQAAAAAAQAAAAAAAAABAAACAAAAAAEAAAYAAAAAAQAAAgAAAAABAAAKAAAAAAEAAAQAAAAAAQAAAAAAAAABAAACAAAAAAEAAAYAAAAAAQAAAgAAAAABAAAKAAAAAAEAAAQAAAAAAQAAAAAAAAABAAACAAAAAAEAAAYAAAAAAQAAAgAAAAABAAAKAAAAAAEAAAQAAAAAAQAAAAAAAAABAAACAAAAAAEAAAYAAAAAAQAAAgAAAAABAAAKAAAAAAEAAAQAAAAAAQAAAAAAAAABAAACAAAAAAEAAAYAAAAAAQAAAgAAAAABAAAKAAAAAAEAAAQAAAAAAQAAAAAAAAABAAACAAAAAAEAAAYAAAAAAQAAAgAAAAAcc3RzYwAAAAAAAAABAAAAAQAAAMoAAAABAAADPHN0c3oAAAAAAAAAAAAAAMoAAAV4AAAAGQAAABwAAAAgAAAAFgAAABIAAAAeAAAAIgAAABkAAAAUAAAAFAAAAB0AAAAUAAAAHAAAACIAAAAUAAAAHAAAABQAAAATAAAAFAAAAB8AAAAUAAAAHAAAABQAAAATAAAAFAAAAB8AAAAUAAAAHAAAABQAAAATAAAAFAAAAB8AAAAUAAAAHAAAABQAAAATAAAAFAAAAB8AAAAUAAAAHAAAABQAAAATAAAAFAAAAB8AAAAUAAAAHAAAABQAAAATAAAAFAAAAB8AAAAUAAAAHAAAABQAAAATAAAAFAAAAB8AAAAUAAAAHAAAABQAAAATAAAAFAAAAB8AAAAUAAAAHAAAABQAAAATAAAAFAAAAB8AAAAUAAAAHAAAABQAAAATAAAAFAAAAB8AAAAUAAAAHAAAABQAAAATAAAAFAAAAB8AAAAUAAAAHAAAABQAAAATAAAAFAAAAB8AAAAUAAAAHAAAABQAAAATAAAAFAAAAB8AAAAUAAAAHAAAABQAAAATAAAAFAAAAB8AAAAUAAAAHAAAABQAAAATAAAAFAAAAB8AAAAUAAAAHAAAABQAAAATAAAAFAAAAB8AAAAUAAAAHAAAABQAAAATAAAAFAAAAB8AAAAUAAAAHAAAABQAAAATAAAAFAAAAB8AAAAUAAAAHAAAABQAAAATAAAAFAAAAB8AAAAUAAAAHAAAABQAAAATAAAAFAAAAB8AAAAUAAAAHAAAABQAAAATAAAAFAAAAB8AAAAUAAAAHAAAABQAAAATAAAAFAAAAB8AAAAUAAAAHAAAABQAAAATAAAAFAAAAB8AAAAUAAAAHAAAABQAAAATAAAAFAAAAB8AAAAUAAAAHAAAABQAAAATAAAAFAAAAB8AAAAUAAAAHAAAABQAAAATAAAAFAAAAB8AAAAUAAAAHAAAABQAAAATAAAAFAAAAB8AAAAUAAAAHAAAABQAAAATAAAAFAAAAB8AAAAUAAAAHAAAABQAAAATAAAAFAAAAB8AAAAUAAAAHAAAABQAAAATAAAAFAAAAB8AAAAUAAAAHAAAABQAAAATAAAAFAAAAB8AAAApAAAAFHN0Y28AAAAAAAAAAQAAADAAAABidWR0YQAAAFptZXRhAAAAAAAAACFoZGxyAAAAAAAAAABtZGlyYXBwbAAAAAAAAAAAAAAAAC1pbHN0AAAAJal0b28AAAAdZGF0YQAAAAEAAAAATGF2ZjU4LjIwLjEwMA==\" type=\"video/mp4\" />\n",
       "             </video>"
      ],
      "text/plain": [
       "<IPython.core.display.HTML object>"
      ]
     },
     "execution_count": 17,
     "metadata": {},
     "output_type": "execute_result"
    }
   ],
   "source": [
    "HTML(display_videos('cnn_test10.mp4'))"
   ]
  },
  {
   "cell_type": "code",
   "execution_count": 18,
   "metadata": {
    "colab": {},
    "colab_type": "code",
    "id": "B4qXReXhAftO"
   },
   "outputs": [
    {
     "data": {
      "text/html": [
       "<video alt=\"test\" controls>\n",
       "                <source src=\"data:video/mp4;base64,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\" type=\"video/mp4\" />\n",
       "             </video>"
      ],
      "text/plain": [
       "<IPython.core.display.HTML object>"
      ]
     },
     "execution_count": 18,
     "metadata": {},
     "output_type": "execute_result"
    }
   ],
   "source": [
    "HTML(display_videos('fc_test10.mp4'))"
   ]
  },
  {
   "cell_type": "markdown",
   "metadata": {},
   "source": [
    "__Comments__\n",
    "\n",
    "- We notice that the agent lack exploration and gets stuck when there is no positive reward within his reach.\n",
    "\n",
    "- increasing temperature increases the positive rewards cells, which pushes the agent to explore more since positive reward is almost always in his reach (visibility). Thus, the final average score gets higher."
   ]
  },
  {
   "cell_type": "markdown",
   "metadata": {
    "colab_type": "text",
    "id": "YYKvWySbAftR"
   },
   "source": [
    "***\n",
    "\n",
    "The algorithm tends to not explore the map which can be an issue. We propose two ideas in order to encourage exploration:\n",
    "1. Incorporating a decreasing $\\epsilon$-greedy exploration. You can use the method ```set_epsilon```\n",
    "2. Append via the environment a new state that describes if a cell has been visited or not\n",
    "\n",
    "***\n",
    "__Question 10__ Design a new ```train_explore``` function and environment class ```EnvironmentExploring``` to tackle the issue of exploration.\n",
    "\n"
   ]
  },
  {
   "cell_type": "code",
   "execution_count": 19,
   "metadata": {
    "colab": {},
    "colab_type": "code",
    "id": "zDTwwq-4AftR"
   },
   "outputs": [],
   "source": [
    "def train_explore(agent,env,epoch,prefix=''):\n",
    "    \n",
    "    # Number of won games\n",
    "    score = 0\n",
    "    loss = 0\n",
    "    \n",
    "    #exponentially decreasing epsilon from init_eps to approximately 0.1 for each epoch\n",
    "    init_eps = agent.epsilon\n",
    "    B = 0.1\n",
    "    A = init_eps - B\n",
    "    T = epoch/5.0\n",
    "    \n",
    "    for e in range(epoch):\n",
    "        # At each epoch, we restart to a fresh game and get the initial state\n",
    "        state = env.reset()\n",
    "        # This assumes that the games will terminate\n",
    "        game_over = False\n",
    "\n",
    "        win = 0\n",
    "        lose = 0\n",
    "        eps = A*np.exp(-e/T) + B\n",
    "        \n",
    "        while not game_over:\n",
    "            # The agent performs an action\n",
    "            action = agent.act(state)\n",
    "\n",
    "            # Apply an action to the environment, get the next state, the reward\n",
    "            # and if the games end\n",
    "            prev_state = state\n",
    "            state, reward, game_over = env.act(action, train=True)\n",
    "\n",
    "            # Update the counters\n",
    "            if reward > 0:\n",
    "                win = win + reward\n",
    "            if reward < 0:\n",
    "                lose = lose -reward\n",
    "\n",
    "            # Apply the reinforcement strategy\n",
    "            agent.set_epsilon(eps)\n",
    "            loss = agent.reinforce(prev_state, state,  action, reward, game_over)\n",
    "            \n",
    "\n",
    "        # Save as a mp4\n",
    "        if (e + 1) % 10 == 0:\n",
    "            env.draw(prefix+str(e+1))\n",
    "\n",
    "        # Update stats\n",
    "        score += win-lose\n",
    "\n",
    "        print(\"Epoch {:03d}/{:03d} | Loss {:.4f} | Win/lose count {:.3f}/{:.3f} ({:.3f}), epsilon {:.3f}\"\n",
    "              .format(e, epoch, loss, win, lose, win-lose, eps))\n",
    "        agent.save(name_weights=prefix+'model.h5',name_model=prefix+'model.json')\n",
    "    \n",
    "        \n",
    "class EnvironmentExploring(object):\n",
    "  \n",
    "    def __init__(self, grid_size=10, max_time=500, temperature=0.1):\n",
    "        grid_size = grid_size+4\n",
    "        self.grid_size = grid_size\n",
    "        self.max_time = max_time\n",
    "        self.temperature = temperature\n",
    "\n",
    "        #board on which one plays\n",
    "        self.board = np.zeros((grid_size,grid_size))\n",
    "        self.position = np.zeros((grid_size,grid_size))\n",
    "        self.malus_position = np.zeros((grid_size,grid_size))\n",
    "\n",
    "        # coordinate of the cat\n",
    "        self.x = 0\n",
    "        self.y = 1\n",
    "\n",
    "        # self time\n",
    "        self.t = 0\n",
    "\n",
    "        self.scale=16\n",
    "\n",
    "        self.to_draw = np.zeros((max_time+2, grid_size*self.scale, grid_size*self.scale, 3))\n",
    "\n",
    "\n",
    "    def draw(self,e):\n",
    "        skvideo.io.vwrite(str(e) + '.mp4', self.to_draw)\n",
    "\n",
    "    def get_frame(self,t):\n",
    "        b = np.zeros((self.grid_size,self.grid_size,3))+128\n",
    "        b[self.board>0,0] = 256\n",
    "        b[self.board < 0, 2] = 256\n",
    "        b[self.x,self.y,:]=256\n",
    "        b[-2:,:,:]=0\n",
    "        b[:,-2:,:]=0\n",
    "        b[:2,:,:]=0\n",
    "        b[:,:2,:]=0\n",
    "        \n",
    "        b =  cv2.resize(b, None, fx=self.scale, fy=self.scale, interpolation=cv2.INTER_NEAREST)\n",
    "\n",
    "        self.to_draw[t,:,:,:]=b\n",
    "\n",
    "\n",
    "    def act(self, action, train = False):\n",
    "        \"\"\"This function returns the new state, reward and decides if the\n",
    "        game ends.\"\"\"\n",
    "\n",
    "        self.get_frame(int(self.t))\n",
    "\n",
    "        self.position = np.zeros((self.grid_size, self.grid_size))\n",
    "\n",
    "        self.position[0:2,:]= -1\n",
    "        self.position[:,0:2] = -1\n",
    "        self.position[-2:, :] = -1\n",
    "        self.position[-2:, :] = -1\n",
    "\n",
    "        self.position[self.x, self.y] = 1\n",
    "        if action == 0:\n",
    "            if self.x == self.grid_size-3:\n",
    "                self.x = self.x-1\n",
    "            else:\n",
    "                self.x = self.x + 1\n",
    "        elif action == 1:\n",
    "            if self.x == 2:\n",
    "                self.x = self.x+1\n",
    "            else:\n",
    "                self.x = self.x-1\n",
    "        elif action == 2:\n",
    "            if self.y == self.grid_size - 3:\n",
    "                self.y = self.y - 1\n",
    "            else:\n",
    "                self.y = self.y + 1\n",
    "        elif action == 3:\n",
    "            if self.y == 2:\n",
    "                self.y = self.y + 1\n",
    "            else:\n",
    "                self.y = self.y - 1\n",
    "        else:\n",
    "            RuntimeError('Error: action not recognized')\n",
    "\n",
    "        self.t = self.t + 1\n",
    "        reward = 0\n",
    "        reward = self.board[self.x, self.y] - train * self.malus_position[self.x, self.y]\n",
    "        self.malus_position[self.x, self.y] = 0.1\n",
    "        \n",
    "        self.board[self.x, self.y] = 0\n",
    "        game_over = self.t > self.max_time\n",
    "        \n",
    "        state = np.concatenate((self.malus_position.reshape(self.grid_size, self.grid_size,1),\n",
    "                                self.board.reshape(self.grid_size, self.grid_size,1),\n",
    "                                self.position.reshape(self.grid_size, self.grid_size,1)),axis=2)\n",
    "\n",
    "        state = state[self.x - 2:self.x + 3, self.y - 2:self.y + 3, :]\n",
    "\n",
    "        return state, reward, game_over\n",
    "\n",
    "    def reset(self):\n",
    "        \"\"\"This function resets the game and returns the initial state\"\"\"\n",
    "\n",
    "        self.x = np.random.randint(3, self.grid_size-3, size=1)[0]\n",
    "        self.y = np.random.randint(3, self.grid_size-3, size=1)[0]\n",
    "\n",
    "\n",
    "        bonus = 0.5*np.random.binomial(1,self.temperature,size=self.grid_size**2)\n",
    "        bonus = bonus.reshape(self.grid_size,self.grid_size)\n",
    "\n",
    "        malus = -1.0*np.random.binomial(1,self.temperature,size=self.grid_size**2)\n",
    "        malus = malus.reshape(self.grid_size, self.grid_size)\n",
    "\n",
    "        self.to_draw = np.zeros((self.max_time+2, self.grid_size*self.scale, self.grid_size*self.scale, 3))\n",
    "\n",
    "        malus[bonus>0]=0\n",
    "\n",
    "        self.board = bonus + malus\n",
    "\n",
    "        self.position = np.zeros((self.grid_size, self.grid_size))\n",
    "        self.position[0:2,:]= -1\n",
    "        self.position[:,0:2] = -1\n",
    "        self.position[-2:, :] = -1\n",
    "        self.position[-2:, :] = -1\n",
    "        self.board[self.x,self.y] = 0\n",
    "        self.t = 0\n",
    "        \n",
    "        self.malus_position = np.zeros((self.grid_size, self.grid_size))\n",
    "        self.malus_position[self.x, self.y] = 0.1\n",
    "\n",
    "        state = np.concatenate((self.malus_position.reshape(self.grid_size, self.grid_size,1),\n",
    "                                self.board.reshape(self.grid_size, self.grid_size,1),\n",
    "                                self.position.reshape(self.grid_size, self.grid_size,1)),axis=2)\n",
    "\n",
    "        state = state[self.x - 2:self.x + 3, self.y - 2:self.y + 3, :]\n",
    "        return state"
   ]
  },
  {
   "cell_type": "code",
   "execution_count": 20,
   "metadata": {
    "colab": {},
    "colab_type": "code",
    "id": "EMDQ1NQAAftV"
   },
   "outputs": [
    {
     "name": "stdout",
     "output_type": "stream",
     "text": [
      "Epoch 000/050 | Loss 0.0157 | Win/lose count 6.000/22.200 (-16.200), epsilon 0.900\n",
      "Epoch 001/050 | Loss 0.0108 | Win/lose count 10.000/20.400 (-10.400), epsilon 0.824\n",
      "Epoch 002/050 | Loss 0.0161 | Win/lose count 12.000/25.300 (-13.300), epsilon 0.755\n",
      "Epoch 003/050 | Loss 0.0175 | Win/lose count 10.000/24.800 (-14.800), epsilon 0.693\n",
      "Epoch 004/050 | Loss 0.0117 | Win/lose count 9.500/22.300 (-12.800), epsilon 0.636\n",
      "Epoch 005/050 | Loss 0.0150 | Win/lose count 16.000/23.900 (-7.900), epsilon 0.585\n",
      "Epoch 006/050 | Loss 0.0164 | Win/lose count 20.000/25.300 (-5.300), epsilon 0.539\n",
      "Epoch 007/050 | Loss 0.0229 | Win/lose count 13.000/24.200 (-11.200), epsilon 0.497\n",
      "Epoch 008/050 | Loss 0.0160 | Win/lose count 13.500/28.000 (-14.500), epsilon 0.459\n",
      "Epoch 009/050 | Loss 0.0122 | Win/lose count 16.000/20.900 (-4.900), epsilon 0.425\n",
      "Epoch 010/050 | Loss 0.0152 | Win/lose count 20.500/14.600 (5.900), epsilon 0.394\n",
      "Epoch 011/050 | Loss 0.0164 | Win/lose count 15.000/17.300 (-2.300), epsilon 0.366\n",
      "Epoch 012/050 | Loss 0.0162 | Win/lose count 17.000/19.200 (-2.200), epsilon 0.341\n",
      "Epoch 013/050 | Loss 0.0168 | Win/lose count 15.000/18.200 (-3.200), epsilon 0.318\n",
      "Epoch 014/050 | Loss 0.0205 | Win/lose count 16.500/19.800 (-3.300), epsilon 0.297\n",
      "Epoch 015/050 | Loss 0.0152 | Win/lose count 10.000/20.000 (-10.000), epsilon 0.279\n",
      "Epoch 016/050 | Loss 0.0152 | Win/lose count 17.000/15.900 (1.100), epsilon 0.262\n",
      "Epoch 017/050 | Loss 0.0257 | Win/lose count 17.000/17.500 (-0.500), epsilon 0.246\n",
      "Epoch 018/050 | Loss 0.0220 | Win/lose count 11.000/18.900 (-7.900), epsilon 0.232\n",
      "Epoch 019/050 | Loss 0.0271 | Win/lose count 17.500/16.600 (0.900), epsilon 0.220\n",
      "Epoch 020/050 | Loss 0.0194 | Win/lose count 18.500/16.800 (1.700), epsilon 0.208\n",
      "Epoch 021/050 | Loss 0.0280 | Win/lose count 20.000/19.600 (0.400), epsilon 0.198\n",
      "Epoch 022/050 | Loss 0.0231 | Win/lose count 20.000/20.400 (-0.400), epsilon 0.189\n",
      "Epoch 023/050 | Loss 0.0195 | Win/lose count 19.000/17.100 (1.900), epsilon 0.180\n",
      "Epoch 024/050 | Loss 0.0252 | Win/lose count 21.000/16.500 (4.500), epsilon 0.173\n",
      "Epoch 025/050 | Loss 0.1391 | Win/lose count 19.000/22.600 (-3.600), epsilon 0.166\n",
      "Epoch 026/050 | Loss 0.0189 | Win/lose count 26.500/13.200 (13.300), epsilon 0.159\n",
      "Epoch 027/050 | Loss 0.0208 | Win/lose count 17.000/17.200 (-0.200), epsilon 0.154\n",
      "Epoch 028/050 | Loss 0.0221 | Win/lose count 23.000/14.900 (8.100), epsilon 0.149\n",
      "Epoch 029/050 | Loss 0.0220 | Win/lose count 20.000/12.100 (7.900), epsilon 0.144\n",
      "Epoch 030/050 | Loss 0.0193 | Win/lose count 18.000/16.500 (1.500), epsilon 0.140\n",
      "Epoch 031/050 | Loss 0.0220 | Win/lose count 27.500/14.700 (12.800), epsilon 0.136\n",
      "Epoch 032/050 | Loss 0.0160 | Win/lose count 17.000/17.700 (-0.700), epsilon 0.133\n",
      "Epoch 033/050 | Loss 0.0174 | Win/lose count 19.000/12.500 (6.500), epsilon 0.130\n",
      "Epoch 034/050 | Loss 0.0263 | Win/lose count 23.000/16.400 (6.600), epsilon 0.127\n",
      "Epoch 035/050 | Loss 0.0148 | Win/lose count 16.000/19.100 (-3.100), epsilon 0.124\n",
      "Epoch 036/050 | Loss 0.0267 | Win/lose count 29.000/12.200 (16.800), epsilon 0.122\n",
      "Epoch 037/050 | Loss 0.0234 | Win/lose count 16.500/19.700 (-3.200), epsilon 0.120\n",
      "Epoch 038/050 | Loss 0.0276 | Win/lose count 21.500/16.000 (5.500), epsilon 0.118\n",
      "Epoch 039/050 | Loss 0.0214 | Win/lose count 24.500/15.700 (8.800), epsilon 0.116\n",
      "Epoch 040/050 | Loss 0.1727 | Win/lose count 24.000/14.000 (10.000), epsilon 0.115\n",
      "Epoch 041/050 | Loss 0.0284 | Win/lose count 19.000/11.400 (7.600), epsilon 0.113\n",
      "Epoch 042/050 | Loss 0.0285 | Win/lose count 21.000/20.200 (0.800), epsilon 0.112\n",
      "Epoch 043/050 | Loss 0.0235 | Win/lose count 17.500/15.900 (1.600), epsilon 0.111\n",
      "Epoch 044/050 | Loss 0.0235 | Win/lose count 16.500/17.400 (-0.900), epsilon 0.110\n",
      "Epoch 045/050 | Loss 0.0256 | Win/lose count 22.500/14.800 (7.700), epsilon 0.109\n",
      "Epoch 046/050 | Loss 0.0231 | Win/lose count 24.000/13.700 (10.300), epsilon 0.108\n",
      "Epoch 047/050 | Loss 0.0215 | Win/lose count 24.000/15.100 (8.900), epsilon 0.107\n",
      "Epoch 048/050 | Loss 0.0236 | Win/lose count 18.500/18.600 (-0.100), epsilon 0.107\n",
      "Epoch 049/050 | Loss 0.0186 | Win/lose count 20.000/13.500 (6.500), epsilon 0.106\n"
     ]
    },
    {
     "data": {
      "text/html": [
       "<video alt=\"test\" controls>\n",
       "                <source src=\"data:video/mp4;base64,AAAAIGZ0eXBpc29tAAACAGlzb21pc28yYXZjMW1wNDEAAAAIZnJlZQAAGVVtZGF0AAACrQYF//+p3EXpvebZSLeWLNgg2SPu73gyNjQgLSBjb3JlIDE1NyByMjkzNSA1NDVkZTJmIC0gSC4yNjQvTVBFRy00IEFWQyBjb2RlYyAtIENvcHlsZWZ0IDIwMDMtMjAxOCAtIGh0dHA6Ly93d3cudmlkZW9sYW4ub3JnL3gyNjQuaHRtbCAtIG9wdGlvbnM6IGNhYmFjPTEgcmVmPTMgZGVibG9jaz0xOjA6MCBhbmFseXNlPTB4MToweDExMSBtZT1oZXggc3VibWU9NyBwc3k9MSBwc3lfcmQ9MS4wMDowLjAwIG1peGVkX3JlZj0xIG1lX3JhbmdlPTE2IGNocm9tYV9tZT0xIHRyZWxsaXM9MSA4eDhkY3Q9MCBjcW09MCBkZWFkem9uZT0yMSwxMSBmYXN0X3Bza2lwPTEgY2hyb21hX3FwX29mZnNldD00IHRocmVhZHM9OCBsb29rYWhlYWRfdGhyZWFkcz0xIHNsaWNlZF90aHJlYWRzPTAgbnI9MCBkZWNpbWF0ZT0xIGludGVybGFjZWQ9MCBibHVyYXlfY29tcGF0PTAgY29uc3RyYWluZWRfaW50cmE9MCBiZnJhbWVzPTMgYl9weXJhbWlkPTIgYl9hZGFwdD0xIGJfYmlhcz0wIGRpcmVjdD0xIHdlaWdodGI9MSBvcGVuX2dvcD0wIHdlaWdodHA9MiBrZXlpbnQ9MjUwIGtleWludF9taW49MjUgc2NlbmVjdXQ9NDAgaW50cmFfcmVmcmVzaD0wIHJjX2xvb2thaGVhZD00MCByYz1jcmYgbWJ0cmVlPTEgY3JmPTIzLjAgcWNvbXA9MC42MCBxcG1pbj0wIHFwbWF4PTY5IHFwc3RlcD00IGlwX3JhdGlvPTEuNDAgYXE9MToxLjAwAIAAAALlZYiEADf//vaH+BTZWBP+Wb/9DX/cj9uPrP1xYyEE31qvIejAGS+1H+b/rFFs6Z6UB/fgCJQAc24ZwpHZJ3iTdiOFrIMcHwKauk8XwKShPr2O2UkdKVToktrTikJEumLzn0MQ8tVUrCRQ2boOSHatDCapr1tVfQh9wEvxXcAca3IGjlmwUfiOpYSO84J9oaZOvDfD+dDrS/m740qag4oAUU0cnSx6EKzoiEYMTk/Hbu/91OiIZgxPT8jzBAp0eYMGKizGP5hXI/eP/HZzXuNYk7QsPxJ4Z+5zAkrFCmYQn530IX86bSJh9dVXxVUSz9cq4kRFdg25pcx7Vs0XC1zZ94BvByQSwTjQhBpH5KyW+jaYNiUueVBA1/CsKXT7n4zl09RsDboVmrojf3aWO9eX6VMMfmynFlAeNyJOGMtzUrjZouA90d67IsVKVf5uwY+qxVCsbd+ToEPgSlusUJNYGyhRSMEFyDSaOkScRHCR/n4hpXTYgXu0Wy3CDmtE6PzJKyxNdda9b/11Fl35e3E043CkOyNH7eL4sFGBOrfGpb96ih7ZRsuAouOkg7c2WAEeky44/NA35YklhsbTQtEl0NlvIRR/aGzNuZn/NKP5PQxTtoUoN7d/Jo0/OVSMj9Ap4EAWGmce1m4nUUYRAVaH4LulmtrLMpvjtzAkz3L3BcR/oAoVvtUpzRRIcU5sbpw1CFgwDdg7k1M+42ag5MrviFjSr/YxaDEBOfdlIXnUClR9nc95yELmatgBlLRcP+UP2tZyRV/dszMc7lhV1ABur9sBI0Z3DCYkqzyuzHmMUkzLsVYVJw0V+nkAHJxJkL7SVh1LviNrpZYAReXk7FvimX6ZeEiykwQJPW7Lw+Krpo4C+oPzM4lh7AIz2wKK7nvY6Mtro1JXKvRV1jAlshn0dcc08B8Vicm+PQkz83nF4PoNu7mbnwDCejSZKMWPgn1Kre+BMQqAvPJWAVV+Qm0BASTAAKqBAAAAFkGaImxDP/6eEACCkudNgvQniDycWYAAAAAQAZ5BeQr/ABupNCbqRKblMQAAABlBmkM8IZMphDP//p4QAIKIcq3FVz7hwGz4AAAAGUGaZEnhDyZTAhv//qeEABY/dT9RxoSHS8EAAAAdQZqGSeEPJlMFETwz//6eEAA3fr7+hXRsmLYKtrEAAAAQAZ6lakK/AAujbkVeAKCFgQAAABpBmqdJ4Q8mUwIb//6nhAAGHdWkEJTQ/o49gQAAABlBmshJ4Q8mUwIb//6nhAAJagCzbBtqnTrQAAAAGEGa60nhDyZTAhv//qeEAAl3x0x/h9W4DQAAAA9BnwlFETwr/wAHmBXDmcEAAAAPAZ8qakK/AAduwJcr/GBAAAAAGUGbLkmoQWiZTAhn//6eEAAj3xDzrdAySFQAAAAPQZ9MRREsK/8AB2wVw5vBAAAADQGfbWpCvwAHbr8YVN8AAAAZQZtvSahBbJlMCG///qeEAAj3x0x/h9W4HwAAAB5Bm5FJ4QpSZTBRUsM//p4QADX2AYJBuXvpRhD+KhAAAAAQAZ+wakK/AAtdhHkwPXxDgAAAABlBm7JJ4Q6JlMCG//6nhAAOIDwp1nT7rpmBAAAAGUGb00nhDyZTAhv//qeEAA54PCnWdPuulIAAAAAZQZv3SeEPJlMCGf/+nhAAVkADBeiOvv6ZVwAAABBBnhVFETwv/wANMq8b2Cr5AAAADwGeNHRCvwAMQ8m884wPgAAAABABnjZqQr8AEleaJkTSs89BAAAAG0GaOEmoQWiZTAhn//6eEACCnCOfw58QOH+FnwAAABhBmllJ4QpSZTAhv/6nhAA0tIn+pSAVa8AAAAAhQZp7SeEOiZTBTRMN//6nhABT8VqmP9VvqoEJ+so/JqDBAAAADwGemmpCvwBDdnluGzanIwAAABhBmpxJ4Q8mUwIb//6nhAB+zjP9SkAqfSEAAAAZQZq9SeEPJlMCHf/+qZYAZSpBmfeJvu00EQAAAB1BmsFJ4Q8mUwIb//6nhAE1+On2q81g3qD+1lt/uAAAABZBnv9FETwv/wC6MdtfosXEJT4VptGAAAAAEAGfHnRCvwD4WKxbGypR+zEAAAAQAZ8AakK/APKEAnXgCfzRgAAAABpBmwJJqEFomUwId//+qZYAPr7S8LUE/sA24QAAAB9BmyZJ4QpSZTAh3/6plgBdtLOUGaBT7Mfe+OUhjm3/AAAAEkGfREU0TC//AG6VeN6MmluKEQAAAA8Bn2N0Qr8AZJJqerO+0UEAAAAQAZ9lakK/AJbtEJuM+vTa2QAAACtBm2pJqEFomUwIb//+p4QCC+SK5zLK57x+BSpbPwKZ2BfFAFl/TOg/yCVhAAAAEEGfiEURLC//AQaf7vKDnXAAAAAQAZ+ndEK/AWzMp4HTKblGgAAAAA8Bn6lqQr8BbOVgXX9+x8EAAAATQZusSahBbJlMFEw3//6nhAABJwAAABABn8tqQr8BaLa3YrR9ulpAAAAAEUGb0EnhClJlMCGf/p4QAAR9AAAADEGf7kU0TC//AACygQAAABABng10Qr8BaLa3ZdV/AbwhAAAAEAGeD2pCvwF1UaJl0HTyyygAAAAaQZoRSahBaJlMCG///qeEAgvo59rYLdBSsoAAAAAYQZoySeEKUmUwIb/+p4QBHfjpj/D6ttlfAAAAHUGaVUnhDomUwIb//qeEARX6OaCtZk4W3PLak2pAAAAAE0Gec0URPCv/AOIDAIBS/5JS4EAAAAAQAZ6UakK/ANy7cJuM+vTXTQAAABlBmpZJqEFomUwIb//+p4QBDfo5oK1mU1lBAAAAG0GauUnhClJlMCG//qeEAQX6OaCtZk4W3vg/wQAAABJBntdFNEwr/wDXkeiAUwDj/mEAAAAOAZ74akK/ANfYlXU6bS8AAAAZQZr6SahBaJlMCG///qeEAP37B69mfBFdBwAAAB5Bmx5J4QpSZTAhv/6nhAGh7qfsL5rQJoqZqmtzeg8AAAARQZ88RTRML/8A537RaPlPxZcAAAAPAZ9bdEK/AT/oB0JyXcTBAAAAEAGfXWpCvwDNkdudaGF4lsAAAAAcQZtASahBaJlMFPDP/p4QAm3xD/FEvOdNioDb0AAAABABn39qQr8AfwID4D6/gNMxAAAAGEGbYUnhClJlMCGf/p4QAYn19/IkR9YSLgAAABlBm4JJ4Q6JlMCG//6nhAA/vsH+E4LdCVlBAAAAGEGbpUnhDyZTAhn//p4QAKR7psZcmyrfbAAAAA9Bn8NFETwr/wAhsm4bN0EAAAANAZ/kakK/ACHBpFvZuwAAABlBm+ZJqEFomUwIZ//+nhAAn/um+ipWa+G3AAAAGEGaB0nhClJlMCGf/p4QAGd9ffyJEfWGDwAAABhBmihJ4Q6JlMCGf/6eEABBviH9shj6w58AAAAfQZpKSeEPJlMFETwz//6eEAAsfvASv6WDynnL4irqAQAAABABnmlqQr8ACS5o3mmKttjBAAAAGkGaa0nhDyZTAhn//p4QABzvXG3vgA3P55loAAAAGEGajEnhDyZTAhn//p4QAB2fXGtNdgy9zAAAABlBmq1J4Q8mUwIb//6nhAAHwB4U6zp917OBAAAAGUGazknhDyZTAhv//qeEAAfsHhTrOn3XroEAAAAcQZrxSeEPJlMCGf/+nhAAMPPyCCHDgvxVbN+ToQAAABJBnw9FETwr/wAKPg67vApqgYAAAAAOAZ8wakK/AAo7brwG2noAAAAZQZsySahBaJlMCGf//p4QABSPdNjLk2VgrQAAABlBm1NJ4QpSZTAhv/6nhAAFI91P1HGhIhJAAAAAGEGbdknhDomUwIZ//p4QAAzvr7u05u4x3AAAABBBn5RFETwr/wAEGDV9DytVAAAAEAGftWpCvwAEFk+c60MMRIAAAAAZQZu3SahBaJlMCGf//p4QABNThHP4c5vtFQAAABhBm9hJ4QpSZTAhn/6eEAAdopxz+HOb7GsAAAAZQZv5SeEOiZTAhv/+p4QAC+0if6rfMfjFwAAAAB1BmhtJ4Q8mUwURPDP//p4QAElEOVbgvO19ffb1MQAAABABnjpqQr8ADzMweTA9fAmAAAAAGEGaPEnhDyZTAhv//qeEABzzjP9SkArTwQAAABlBml1J4Q8mUwIb//6nhAAtXon+q3zH4knBAAAAHUGaYEnhDyZTAhv//qeEADE+sNzLLEyO+HsM6LnrAAAAEkGenkURPCv/ACfWXBvDZZt8LAAAABABnr9qQr8AJ9YR5LmfJWaBAAAAGkGaoUmoQWiZTAh3//6plgAZSCyuM0v7YETAAAAAJkGaxUnhClJlMCG//qeEADd+y+r4FNfUK/ApUtn4FM7A37WL5Sa/AAAAHkGe40U0TC//ACC6B/UQ8CmtEYnMsg3bcyqFRSVYLAAAAA8BnwJ0Qr8AKzlgwbMcSq0AAAAQAZ8EakK/AC12EeS5nyVMgQAAAB1BmwhJqEFomUwIb//+p4QAVkKmaKLZg9H2tJDasQAAABJBnyZFESwr/wBFenXd39IrjYEAAAAQAZ9HakK/AEVk+c60MLycwAAAAB9Bm0pJqEFsmUwUTDf//qeEADY+ysCE/zlOvCjW5j48AAAAEAGfaWpCvwAsTXznWhhedUEAAAAcQZtsSeEKUmUwUsM//p4QAIN8Q/xiu5G7NhV+YAAAABABn4tqQr8AG6Jkmm+kg5nwAAAAF0GbjUnhDomUwIZ//p4QAFh9qchsWpIFAAAAGUGbrknhDyZTAhv//qeEAA6PsH+E4LdCokEAAAAdQZvQSeEPJlMFETwz//6eEAAk3xD/FEvOdNioKTEAAAAPAZ/vakK/AAeYH9UigSwxAAAAGUGb8UnhDyZTAhv//qeEAAX/2D/CcFuhlkAAAAAaQZoSSeEPJlMCG//+p4QAA8/ssp8f4fVue4EAAAAfQZo0SeEPJlMFETw3//6nhAAFqxWzE/1dvjT8801kRAAAABABnlNqQr8ABJdohNxn17GoAAAAKUGaWEnhDyZTAhn//p4QADT+yOrzLLGFT8yyYOA8yt9STvL4yv62OKzBAAAAEUGedkURPC//AAfv7zzcBenYAAAAEAGelXRCvwALFmU8DplOj4EAAAAPAZ6XakK/AAsXKB5MEhuBAAAAGUGamUmoQWiZTAhv//6nhAANy6tHW5tlvcAAAAAZQZq6SeEKUmUwIb/+p4QADiA8KdZ0+66ZgQAAABlBmt1J4Q6JlMCG//6nhAAON7B/hOC3QqTAAAAAEUGe+0URPCv/AAvzNzXHvesrAAAADwGfHGpCvwAL8S0qRQJXLwAAABpBmx5JqEFomUwId//+qZYABKfjz9+yDcVe4AAAABdBmyFJ4QpSZTAh3/6plgAEoVOFnMfjbQAAABJBn19FNEwr/wAHbZ8y3huQeTkAAAAQAZ9gakK/AAeXnDXvNK0ZwAAAABJBm2VJqEFomUwIb//+p4QAAScAAAATQZ+DRREsL/8ACKx86ZxXU9iePAAAABABn6J0Qr8AC/SLKvAivDmBAAAADwGfpGpCvwAL8S0qRQJXLwAAABpBm6ZJqEFsmUwId//+qZYABKfjz9+yDcVe4QAAABJBm8pJ4QpSZTAh3/6plgAAlYEAAAASQZ/oRTRML/8ABa7ibKfT1HtYAAAADwGeB3RCvwAHmjDyhoGcMQAAABABnglqQr8AB5gXnOtDDAnBAAAAE0GaDkmoQWiZTAh3//6plgAAlYAAAAAQQZ4sRREsL/8ABa8ls36R1gAAAA8Bnkt0Qr8AB5ow8oaBnDEAAAAQAZ5NakK/AAeYF5zrQwwJwQAAABNBmlJJqEFsmUwId//+qZYAAJWBAAAAEEGecEUVLC//AAWvJbN+kdYAAAAPAZ6PdEK/AAeaMPKGgZwxAAAAEAGekWpCvwAHmBec60MMCcEAAAATQZqWSahBbJlMCHf//qmWAACVgAAAABBBnrRFFSwv/wAFryWzfpHWAAAADwGe03RCvwAHmjDyhoGcMQAAABABntVqQr8AB5gXnOtDDAnAAAAAEkGa2kmoQWyZTAhv//6nhAABJwAAABBBnvhFFSwv/wAFryWzfpHXAAAADwGfF3RCvwAHmjDyhoGcMQAAABABnxlqQr8AB5gXnOtDDAnBAAAAEkGbHkmoQWyZTAhv//6nhAABJwAAABBBnzxFFSwv/wAFryWzfpHXAAAADwGfW3RCvwAHmjDyhoGcMQAAABABn11qQr8AB5gXnOtDDAnAAAAAGUGbQUmoQWyZTAhn//6eEAAjpwjn8Oc32GIAAAASQZ9/RRUsK/8AB22fMt4bkHk5AAAAEAGfgGpCvwAHl5w17zStGcAAAAAZQZuCSahBbJlMCGf//p4QADcyGOfw5zfXpQAAABlBm6NJ4QpSZTAhv/6nhAAWH0T/Vb5j8UvAAAAAGUGbxEnhDomUwIb//qeEACGoAs22z7Pm1MEAAAAdQZvmSeEPJlMFETw3//6nhAAzbq2Yn+rt7qftYhkAAAAQAZ4FakK/ACs4Ou4fbNpQEQAAABtBmgdJ4Q8mUwId//6plgAoHyDNAHqSGJ+6pUEAAAASQZorSeEPJlMCHf/+qZYAAJWAAAAADEGeSUURPC//AACygAAAABABnmh0Qr8AZKyru+obuEtRAAAAEAGeampCvwBkkrYwgafZYGAAAAAcQZpvSahBaJlMCG///qeEAHaB4muNUS/RP8h8KAAAABBBno1FESwv/wBHc/c4WUW5AAAADwGerHRCvwA/hfi4D8t6wQAAABABnq5qQr8AZIFjXvNKzdJBAAAAHUGasUmoQWyZTBRMN//+p4QAdz2D/OU68KNbmO+kAAAADwGe0GpCvwBiCWlSKBKqHgAAABtBmtVJ4QpSZTAhn/6eEAG5X3XEc/pHf39L7iEAAAAVQZ7zRTRML/8AQ3P3LdYVBH7tXoTMAAAAEAGfEnRCvwA8vE8Um2Sq2YAAAAAQAZ8UakK/AF0seOV/bh90wQAAABlBmxZJqEFomUwIb//+p4QAsHon+pSAVNtAAAAAHUGbOEnhClJlMFESwz/+nhAEMEOVbgvO19ffbZ8xAAAAEAGfV2pCvwDiMweTA9e2toEAAAAXQZtZSeEOiZTAhv/+p4QBHB8xyuG22V8AAAAZQZt6SeEPJlMCG//+p4QCBQBZtlQ0/USPgQAAABxBm51J4Q8mUwIb//6nhAesZjytVAY5R09TJOOAAAAAEkGfu0URPCv/Akj8DokHCv+GzQAAAA8Bn9xqQr8CSBDew0CsNmEAAAAYQZveSahBaJlMCG///qeEAkEVo6qGlPH+AAAAGUGb4knhClJlMCGf/p4QCKeIf3hE4GKfUkYAAAAQQZ4ARTRML/8BFs/ZuCAx8QAAAA8Bnj90Qr8BiXk3nnFoz4AAAAAQAZ4hakK/AX8jtzrQwvDdwQAAAB5BmiRJqEFomUwU8M/+nhAHrmdI2C8T94AHN/LYtoAAAAAQAZ5DakK/AWyyITcZ9emo+QAAABhBmkVJ4QpSZTAhn/6eEAgRDj+eC/g3itkAAAAXQZpmSeEOiZTAhn/+nhAIhU4+BfIVjAkAAAAaQZqJS+EIQ8kRggoB/IB/YeAIV//+OEAAEXEAAAAlQZ6nRRE8K/8Cr2PtQcTdqsNJI/ENnJ9qBnMabuo4RsYY9pYfAwAAACIBnshqQr8Cr2PtQcTdqsNJJDrv6ylGCBCd6Fn2vA35c1WAAAALYG1vb3YAAABsbXZoZAAAAAAAAAAAAAAAAAAAA+gAAB+QAAEAAAEAAAAAAAAAAAAAAAABAAAAAAAAAAAAAAAAAAAAAQAAAAAAAAAAAAAAAAAAQAAAAAAAAAAAAAAAAAAAAAAAAAAAAAAAAAAAAAAAAAIAAAqKdHJhawAAAFx0a2hkAAAAAwAAAAAAAAAAAAAAAQAAAAAAAB+QAAAAAAAAAAAAAAAAAAAAAAABAAAAAAAAAAAAAAAAAAAAAQAAAAAAAAAAAAAAAAAAQAAAAAEQAAABEAAAAAAAJGVkdHMAAAAcZWxzdAAAAAAAAAABAAAfkAAABAAAAQAAAAAKAm1kaWEAAAAgbWRoZAAAAAAAAAAAAAAAAAAAMgAAAZQAVcQAAAAAAC1oZGxyAAAAAAAAAAB2aWRlAAAAAAAAAAAAAAAAVmlkZW9IYW5kbGVyAAAACa1taW5mAAAAFHZtaGQAAAABAAAAAAAAAAAAAAAkZGluZgAAABxkcmVmAAAAAAAAAAEAAAAMdXJsIAAAAAEAAAltc3RibAAAAJVzdHNkAAAAAAAAAAEAAACFYXZjMQAAAAAAAAABAAAAAAAAAAAAAAAAAAAAAAEQARAASAAAAEgAAAAAAAAAAQAAAAAAAAAAAAAAAAAAAAAAAAAAAAAAAAAAAAAAAAAAABj//wAAAC9hdmNDAfQADf/hABdn9AANkZsoIhHQgAAAAwCAAAAZB4oUywEABWjr48RIAAAAGHN0dHMAAAAAAAAAAQAAAMoAAAIAAAAAFHN0c3MAAAAAAAAAAQAAAAEAAAU4Y3R0cwAAAAAAAAClAAAAAQAABAAAAAABAAAGAAAAAAEAAAIAAAAAAgAABAAAAAABAAAGAAAAAAEAAAIAAAAAAgAABAAAAAABAAAIAAAAAAIAAAIAAAAAAQAACAAAAAACAAACAAAAAAEAAAQAAAAAAQAABgAAAAABAAACAAAAAAIAAAQAAAAAAQAACgAAAAABAAAEAAAAAAEAAAAAAAAAAQAAAgAAAAACAAAEAAAAAAEAAAYAAAAAAQAAAgAAAAACAAAEAAAAAAEAAAoAAAAAAQAABAAAAAABAAAAAAAAAAEAAAIAAAAAAQAABAAAAAABAAAKAAAAAAEAAAQAAAAAAQAAAAAAAAABAAACAAAAAAEAAAoAAAAAAQAABAAAAAABAAAAAAAAAAEAAAIAAAAAAQAABgAAAAABAAACAAAAAAEAAAoAAAAAAQAABAAAAAABAAAAAAAAAAEAAAIAAAAAAgAABAAAAAABAAAIAAAAAAIAAAIAAAAAAQAABAAAAAABAAAIAAAAAAIAAAIAAAAAAQAABAAAAAABAAAKAAAAAAEAAAQAAAAAAQAAAAAAAAABAAACAAAAAAEAAAYAAAAAAQAAAgAAAAACAAAEAAAAAAEAAAgAAAAAAgAAAgAAAAADAAAEAAAAAAEAAAYAAAAAAQAAAgAAAAAEAAAEAAAAAAEAAAgAAAAAAgAAAgAAAAACAAAEAAAAAAEAAAgAAAAAAgAAAgAAAAADAAAEAAAAAAEAAAYAAAAAAQAAAgAAAAACAAAEAAAAAAEAAAgAAAAAAgAAAgAAAAABAAAEAAAAAAEAAAoAAAAAAQAABAAAAAABAAAAAAAAAAEAAAIAAAAAAQAACAAAAAACAAACAAAAAAEAAAYAAAAAAQAAAgAAAAABAAAGAAAAAAEAAAIAAAAAAgAABAAAAAABAAAGAAAAAAEAAAIAAAAAAgAABAAAAAABAAAGAAAAAAEAAAIAAAAAAQAACgAAAAABAAAEAAAAAAEAAAAAAAAAAQAAAgAAAAACAAAEAAAAAAEAAAgAAAAAAgAAAgAAAAABAAAEAAAAAAEAAAgAAAAAAgAAAgAAAAABAAAKAAAAAAEAAAQAAAAAAQAAAAAAAAABAAACAAAAAAEAAAQAAAAAAQAACgAAAAABAAAEAAAAAAEAAAAAAAAAAQAAAgAAAAABAAAKAAAAAAEAAAQAAAAAAQAAAAAAAAABAAACAAAAAAEAAAoAAAAAAQAABAAAAAABAAAAAAAAAAEAAAIAAAAAAQAACgAAAAABAAAEAAAAAAEAAAAAAAAAAQAAAgAAAAABAAAKAAAAAAEAAAQAAAAAAQAAAAAAAAABAAACAAAAAAEAAAoAAAAAAQAABAAAAAABAAAAAAAAAAEAAAIAAAAAAQAACAAAAAACAAACAAAAAAMAAAQAAAAAAQAABgAAAAABAAACAAAAAAEAAAQAAAAAAQAACgAAAAABAAAEAAAAAAEAAAAAAAAAAQAAAgAAAAABAAAKAAAAAAEAAAQAAAAAAQAAAAAAAAABAAACAAAAAAEAAAYAAAAAAQAAAgAAAAABAAAKAAAAAAEAAAQAAAAAAQAAAAAAAAABAAACAAAAAAEAAAQAAAAAAQAABgAAAAABAAACAAAAAAIAAAQAAAAAAQAACAAAAAACAAACAAAAAAEAAAQAAAAAAQAACgAAAAABAAAEAAAAAAEAAAAAAAAAAQAAAgAAAAABAAAGAAAAAAEAAAIAAAAAAgAABAAAAAABAAAIAAAAAAIAAAIAAAAAHHN0c2MAAAAAAAAAAQAAAAEAAADKAAAAAQAAAzxzdHN6AAAAAAAAAAAAAADKAAAFmgAAABoAAAAUAAAAHQAAAB0AAAAhAAAAFAAAAB4AAAAdAAAAHAAAABMAAAATAAAAHQAAABMAAAARAAAAHQAAACIAAAAUAAAAHQAAAB0AAAAdAAAAFAAAABMAAAAUAAAAHwAAABwAAAAlAAAAEwAAABwAAAAdAAAAIQAAABoAAAAUAAAAFAAAAB4AAAAjAAAAFgAAABMAAAAUAAAALwAAABQAAAAUAAAAEwAAABcAAAAUAAAAFQAAABAAAAAUAAAAFAAAAB4AAAAcAAAAIQAAABcAAAAUAAAAHQAAAB8AAAAWAAAAEgAAAB0AAAAiAAAAFQAAABMAAAAUAAAAIAAAABQAAAAcAAAAHQAAABwAAAATAAAAEQAAAB0AAAAcAAAAHAAAACMAAAAUAAAAHgAAABwAAAAdAAAAHQAAACAAAAAWAAAAEgAAAB0AAAAdAAAAHAAAABQAAAAUAAAAHQAAABwAAAAdAAAAIQAAABQAAAAcAAAAHQAAACEAAAAWAAAAFAAAAB4AAAAqAAAAIgAAABMAAAAUAAAAIQAAABYAAAAUAAAAIwAAABQAAAAgAAAAFAAAABsAAAAdAAAAIQAAABMAAAAdAAAAHgAAACMAAAAUAAAALQAAABUAAAAUAAAAEwAAAB0AAAAdAAAAHQAAABUAAAATAAAAHgAAABsAAAAWAAAAFAAAABYAAAAXAAAAFAAAABMAAAAeAAAAFgAAABYAAAATAAAAFAAAABcAAAAUAAAAEwAAABQAAAAXAAAAFAAAABMAAAAUAAAAFwAAABQAAAATAAAAFAAAABYAAAAUAAAAEwAAABQAAAAWAAAAFAAAABMAAAAUAAAAHQAAABYAAAAUAAAAHQAAAB0AAAAdAAAAIQAAABQAAAAfAAAAFgAAABAAAAAUAAAAFAAAACAAAAAUAAAAEwAAABQAAAAhAAAAEwAAAB8AAAAZAAAAFAAAABQAAAAdAAAAIQAAABQAAAAbAAAAHQAAACAAAAAWAAAAEwAAABwAAAAdAAAAFAAAABMAAAAUAAAAIgAAABQAAAAcAAAAGwAAAB4AAAApAAAAJgAAABRzdGNvAAAAAAAAAAEAAAAwAAAAYnVkdGEAAABabWV0YQAAAAAAAAAhaGRscgAAAAAAAAAAbWRpcmFwcGwAAAAAAAAAAAAAAAAtaWxzdAAAACWpdG9vAAAAHWRhdGEAAAABAAAAAExhdmY1OC4yMC4xMDA=\" type=\"video/mp4\" />\n",
       "             </video>"
      ],
      "text/plain": [
       "<IPython.core.display.HTML object>"
      ]
     },
     "execution_count": 20,
     "metadata": {},
     "output_type": "execute_result"
    }
   ],
   "source": [
    "# Training\n",
    "env = EnvironmentExploring(grid_size=size, max_time=T, temperature=0.3)\n",
    "agent = DQN_CNN(size, lr=.1, epsilon = 0.9, memory_size= 2000, batch_size = 32,n_state=3)\n",
    "train_explore(agent, env, epochs_train, prefix='cnn_train_explore')\n",
    "HTML(display_videos('cnn_train_explore50.mp4'))"
   ]
  },
  {
   "cell_type": "code",
   "execution_count": 21,
   "metadata": {
    "colab": {},
    "colab_type": "code",
    "id": "rHudkaDtAftY"
   },
   "outputs": [
    {
     "name": "stdout",
     "output_type": "stream",
     "text": [
      "Win/lose count 16.5/6.0. Average score (10.5)\n",
      "Win/lose count 17.5/10.0. Average score (9.0)\n",
      "Win/lose count 25.5/3.0. Average score (13.5)\n",
      "Win/lose count 26.0/6.0. Average score (15.125)\n",
      "Win/lose count 20.0/3.0. Average score (15.5)\n",
      "Win/lose count 12.0/2.0. Average score (14.583333333333334)\n",
      "Win/lose count 10.5/2.0. Average score (13.714285714285714)\n",
      "Win/lose count 22.5/1.0. Average score (14.6875)\n",
      "Win/lose count 13.0/3.0. Average score (14.166666666666666)\n",
      "Win/lose count 18.5/4.0. Average score (14.2)\n",
      "Win/lose count 18.0/5.0. Average score (14.090909090909092)\n",
      "Win/lose count 20.0/5.0. Average score (14.166666666666666)\n",
      "Win/lose count 17.5/4.0. Average score (14.115384615384615)\n",
      "Win/lose count 18.5/2.0. Average score (14.285714285714286)\n",
      "Win/lose count 16.5/3.0. Average score (14.233333333333333)\n",
      "Final score: 14.233333333333333\n"
     ]
    },
    {
     "data": {
      "text/html": [
       "<video alt=\"test\" controls>\n",
       "                <source src=\"data:video/mp4;base64,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\" type=\"video/mp4\" />\n",
       "             </video>"
      ],
      "text/plain": [
       "<IPython.core.display.HTML object>"
      ]
     },
     "execution_count": 21,
     "metadata": {},
     "output_type": "execute_result"
    }
   ],
   "source": [
    "# Evaluation\n",
    "test(agent,env,epochs_test,prefix='cnn_test_explore')\n",
    "HTML(display_videos('cnn_test_explore10.mp4'))"
   ]
  },
  {
   "cell_type": "markdown",
   "metadata": {},
   "source": [
    "We see that our agent learns better and explore more the environnement and thus gets better at the game with a higher score than previously."
   ]
  },
  {
   "cell_type": "markdown",
   "metadata": {
    "colab_type": "text",
    "id": "6MqO0AR5Afta"
   },
   "source": [
    "***\n",
    "***\n",
    "__BONUS question__ Use the expert DQN from the previous question to generate some winning games. Train a model that mimicks its behavior. Compare the performances."
   ]
  },
  {
   "cell_type": "markdown",
   "metadata": {
    "colab_type": "text",
    "id": "mjFHgmjDAftc"
   },
   "source": []
  },
  {
   "cell_type": "markdown",
   "metadata": {
    "colab_type": "text",
    "id": "fH0rdxLiAftc"
   },
   "source": [
    "***"
   ]
  }
 ],
 "metadata": {
  "colab": {
   "name": "DQN_project_MVA.ipynb",
   "provenance": [],
   "version": "0.3.2"
  },
  "kernelspec": {
   "display_name": "Python 3",
   "language": "python",
   "name": "python3"
  },
  "language_info": {
   "codemirror_mode": {
    "name": "ipython",
    "version": 3
   },
   "file_extension": ".py",
   "mimetype": "text/x-python",
   "name": "python",
   "nbconvert_exporter": "python",
   "pygments_lexer": "ipython3",
   "version": "3.6.8"
  }
 },
 "nbformat": 4,
 "nbformat_minor": 2
}
