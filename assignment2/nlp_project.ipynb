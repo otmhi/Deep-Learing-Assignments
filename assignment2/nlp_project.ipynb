{
 "cells": [
  {
   "cell_type": "markdown",
   "metadata": {},
   "source": [
    "# Deep Learning for NLP - Project"
   ]
  },
  {
   "cell_type": "markdown",
   "metadata": {},
   "source": [
    "RULES:\n",
    "\n",
    "* Do not create any additional cell\n",
    "\n",
    "* Fill in the blanks\n",
    "\n",
    "* All cells should be runnable (modulo trivial compatibility bugs that we'd fix)\n",
    "\n",
    "* 4 / 20 points will be allocated to the clarity of your code\n",
    "\n",
    "* Efficient code will have a bonus\n",
    "\n",
    "DELIVERABLE:\n",
    "\n",
    "* this notebook\n",
    "* the predictions of the SST test set\n",
    "\n",
    "DO NOT INCLUDE THE DATASETS IN THE DELIVERABLE.."
   ]
  },
  {
   "cell_type": "code",
   "execution_count": 87,
   "metadata": {
    "collapsed": false
   },
   "outputs": [],
   "source": [
    "import io\n",
    "import os\n",
    "import numpy as np\n",
    "import scipy"
   ]
  },
  {
   "cell_type": "code",
   "execution_count": 88,
   "metadata": {
    "collapsed": true
   },
   "outputs": [],
   "source": [
    "PATH_TO_DATA = \"./data/\""
   ]
  },
  {
   "cell_type": "markdown",
   "metadata": {},
   "source": [
    "# 1) Monolingual (English) word embeddings "
   ]
  },
  {
   "cell_type": "code",
   "execution_count": 89,
   "metadata": {
    "collapsed": true
   },
   "outputs": [],
   "source": [
    "class Word2vec():\n",
    "    def __init__(self, fname, nmax=100000):\n",
    "        self.load_wordvec(fname, nmax)\n",
    "        self.word2id = dict(zip(self.word2vec.keys(), range(len(self.word2vec))))\n",
    "        self.id2word = {v: k for k, v in self.word2id.items()}\n",
    "        self.embeddings = np.array(list(self.word2vec.values()))\n",
    "    \n",
    "    def load_wordvec(self, fname, nmax):\n",
    "        self.word2vec = {}\n",
    "        with io.open(fname, encoding='utf-8') as f:\n",
    "            next(f)\n",
    "            for i, line in enumerate(f):\n",
    "                word, vec = line.split(' ', 1)\n",
    "                self.word2vec[word] = np.fromstring(vec, sep=' ')\n",
    "                if i == (nmax - 1):\n",
    "                    break\n",
    "        print('Loaded %s pretrained word vectors' % (len(self.word2vec)))\n",
    "\n",
    "    def most_similar(self, w, K=5):\n",
    "        # K most similar words: self.score  -  np.argsort \n",
    "        fun = np.vectorize(lambda v: self.score(self.id2word[v],w))\n",
    "        scores = fun(np.arange(len(self.word2vec)))\n",
    "        ids = np.argsort(-scores)[:K+1]\n",
    "        return [self.id2word[idx] for idx in ids]\n",
    "\n",
    "    def score(self, w1, w2, words = True):\n",
    "        # cosine similarity: np.dot  -  np.linalg.norm\n",
    "        if words : w1, w2 = self.word2vec[w1], self.word2vec[w2] \n",
    "        return np.dot(w1, w2)/(np.linalg.norm(w1)*np.linalg.norm(w2))"
   ]
  },
  {
   "cell_type": "code",
   "execution_count": 90,
   "metadata": {
    "collapsed": false
   },
   "outputs": [
    {
     "name": "stdout",
     "output_type": "stream",
     "text": [
      "Loaded 60000 pretrained word vectors\n",
      "cat dog 0.671683666279249\n",
      "dog pet 0.6842064029669219\n",
      "dogs cats 0.7074389328052403\n",
      "paris france 0.7775108541288561\n",
      "germany berlin 0.7420295235998392\n",
      "['cat', 'cats', 'kitty', 'kitten', 'feline', 'kitties']\n",
      "['dog', 'dogs', 'puppy', 'Dog', 'doggie', 'canine']\n",
      "['dogs', 'dog', 'Dogs', 'doggies', 'canines', 'puppies']\n",
      "['paris', 'france', 'Paris', 'london', 'berlin', 'europe']\n",
      "['germany', 'europe', 'german', 'berlin', 'france', 'italy']\n"
     ]
    }
   ],
   "source": [
    "w2v = Word2vec(os.path.join(PATH_TO_DATA, 'crawl-300d-200k.vec'), nmax=60000)\n",
    "\n",
    "# You will be evaluated on the output of the following:\n",
    "for w1, w2 in zip(('cat', 'dog', 'dogs', 'paris', 'germany'), ('dog', 'pet', 'cats', 'france', 'berlin')):\n",
    "    print(w1, w2, w2v.score(w1, w2)) \n",
    "for w1 in ['cat', 'dog', 'dogs', 'paris', 'germany']:\n",
    "    print(w2v.most_similar(w1))"
   ]
  },
  {
   "cell_type": "code",
   "execution_count": 91,
   "metadata": {
    "collapsed": false
   },
   "outputs": [],
   "source": [
    "class BoV():\n",
    "    def __init__(self, w2v, dim = 300):\n",
    "        self.w2v = w2v\n",
    "        self.dim = dim\n",
    "        self.idf_dict = None\n",
    "    \n",
    "    def encode(self, sentences, idf=False):\n",
    "        # takes a list of sentences, outputs a numpy array of sentence embeddings\n",
    "        # see TP1 for help\n",
    "        if idf : weights = self.idf_dict\n",
    "        sentemb = []\n",
    "        for sent in sentences:\n",
    "            if not idf:\n",
    "                # mean of word vectors\n",
    "                mean = np.nanmean([self.w2v.word2vec.get(w, np.full(self.dim,np.nan)) for w in sent], axis=0)\n",
    "                sentemb.append(mean)\n",
    "            else:\n",
    "                # idf-weighted mean of word vectors\n",
    "                normalize = np.sum([weights[w] if w in self.w2v.word2vec.keys() else 0 for w in sent])\n",
    "                weighted_sum = np.nansum([weights[w]*self.w2v.word2vec.get(w, np.full(self.dim,np.nan)) for w in sent], axis=0)\n",
    "                sentemb.append(weighted_sum/normalize)\n",
    "        return np.vstack(sentemb)\n",
    "\n",
    "    def most_similar(self, s, sentences, idf=False, K=5):\n",
    "        # get most similar sentences and **print** them\n",
    "        keys = self.encode(sentences, idf)\n",
    "        query = self.encode([s], idf)\n",
    "        fun = lambda x : self.score(x, query.ravel(), words=False)\n",
    "        similarities = np.apply_along_axis(fun, 1, keys)\n",
    "        sort = np.argsort(-similarities)[:K+1]\n",
    "        for i in sort : print(' '.join(sentences[i])) \n",
    "\n",
    "    def score(self, s1, s2, idf=False, words= True):\n",
    "        # cosine similarity: use   np.dot  and  np.linalg.norm\n",
    "        if words : s1, s2 = self.encode([s1], idf).ravel(), self.encode([s2], idf).ravel()\n",
    "        return np.dot(s1, s2)/(np.linalg.norm(s1)*np.linalg.norm(s2))\n",
    "    \n",
    "    def build_idf(self, sentences):\n",
    "        # build the idf dictionary: associate each word to its idf value\n",
    "        idf = {}\n",
    "        n = len(sentences)\n",
    "        for sent in sentences:\n",
    "            for w in set(sent):\n",
    "                idf[w] = idf.get(w, 0) + 1\n",
    "        self.idf_dict = {word: max(1, np.log10(n/v)) for word, v in idf.items()} \n"
   ]
  },
  {
   "cell_type": "code",
   "execution_count": 92,
   "metadata": {
    "collapsed": false
   },
   "outputs": [
    {
     "name": "stdout",
     "output_type": "stream",
     "text": [
      "Loaded 50000 pretrained word vectors\n",
      "\n",
      " similarity using mean:\n",
      "1 smiling african american boy .\n",
      "an african american man smiling .\n",
      "a little african american boy and girl looking up .\n",
      "an african american in sunglasses and a white tee-shirt smiles .\n",
      "an afican american woman standing behind two small african american children .\n",
      "an african american man is sitting .\n",
      "0.5726258859719607\n",
      "\n",
      " similarity using idf:\n",
      "1 smiling african american boy .\n",
      "an african american man smiling .\n",
      "a little african american boy and girl looking up .\n",
      "an african american in sunglasses and a white tee-shirt smiles .\n",
      "an afican american woman standing behind two small african american children .\n",
      "an african american man is sitting .\n",
      "0.4751450875368781\n"
     ]
    }
   ],
   "source": [
    "w2v = Word2vec(os.path.join(PATH_TO_DATA, 'crawl-300d-200k.vec'), nmax=50000)\n",
    "s2v = BoV(w2v)\n",
    "\n",
    "# Load sentences in \"PATH_TO_DATA/sentences.txt\"\n",
    "with open(os.path.join(PATH_TO_DATA, 'sentences.txt')) as txt :\n",
    "    sentences = [sent.strip().split() for sent in txt.readlines()]\n",
    "\n",
    "# Build idf scores for each word\n",
    "s2v.build_idf(sentences)\n",
    "\n",
    "\n",
    "print('\\n similarity using mean:')\n",
    "\n",
    "# You will be evaluated on the output of the following:\n",
    "s2v.most_similar('' if not sentences else sentences[10], sentences)  # BoV-mean\n",
    "print(s2v.score('' if not sentences else sentences[7], '' if not sentences else sentences[13]))\n",
    "\n",
    "print('\\n similarity using idf:')\n",
    "\n",
    "idf = True\n",
    "# You will be evaluated on the output of the following:\n",
    "s2v.most_similar('' if not sentences else sentences[10], sentences)  # BoV-idf\n",
    "print(s2v.score('' if not sentences else sentences[7], '' if not sentences else sentences[13], idf))"
   ]
  },
  {
   "cell_type": "markdown",
   "metadata": {},
   "source": [
    "# 2) Multilingual (English-French) word embeddings"
   ]
  },
  {
   "cell_type": "markdown",
   "metadata": {},
   "source": [
    "Let's consider a bilingual dictionary of size V_a (e.g French-English).\n",
    "\n",
    "Let's define **X** and **Y** the **French** and **English** matrices.\n",
    "\n",
    "They contain the embeddings associated to the words in the bilingual dictionary.\n",
    "\n",
    "We want to find a **mapping W** that will project the source word space (e.g French) to the target word space (e.g English).\n",
    "\n",
    "Procrustes : **W\\* = argmin || W.X - Y ||  s.t  W^T.W = Id**\n",
    "has a closed form solution:\n",
    "**W = U.V^T  where  U.Sig.V^T = SVD(Y.X^T)**\n",
    "\n",
    "In what follows, you are asked to: "
   ]
  },
  {
   "cell_type": "code",
   "execution_count": 93,
   "metadata": {
    "collapsed": true
   },
   "outputs": [
    {
     "name": "stdout",
     "output_type": "stream",
     "text": [
      "Beginning file download:\n",
      "Done!\n",
      "Loaded 50000 pretrained word vectors\n",
      "Loaded 50000 pretrained word vectors\n"
     ]
    }
   ],
   "source": [
    "# 1 - Download and load 50k first vectors of\n",
    "#     https://s3-us-west-1.amazonaws.com/fasttext-vectors/wiki.en.vec\n",
    "#     https://s3-us-west-1.amazonaws.com/fasttext-vectors/wiki.fr.vec\n",
    "\n",
    "#you'll need to install wget if you don't have it.\n",
    "!pip install wget\n",
    "import wget\n",
    "\n",
    "print('Beginning file download:')\n",
    "url = 'https://s3-us-west-1.amazonaws.com/fasttext-vectors/wiki.en.vec'\n",
    "wget.download(url, out ='en.vec')  \n",
    "\n",
    "url = 'https://s3-us-west-1.amazonaws.com/fasttext-vectors/wiki.fr.vec'\n",
    "wget.download(url, out ='fr.vec')\n",
    "print('Done!')\n",
    "\n",
    "f2v = Word2vec(os.path.join(PATH_TO_DATA, 'fr.vec'), nmax=50000)\n",
    "e2v = Word2vec(os.path.join(PATH_TO_DATA, 'en.vec'), nmax=50000)"
   ]
  },
  {
   "cell_type": "code",
   "execution_count": 94,
   "metadata": {
    "collapsed": true
   },
   "outputs": [],
   "source": [
    "# 2 - Get words that appear in both vocabs (= identical character strings)\n",
    "#     Use it to create the matrix X and Y (of aligned embeddings for these words)\n",
    "\n",
    "# TYPE CODE HERE\n",
    "in_common = []\n",
    "fr_vocab, en_vocab = f2v.word2id.keys(), e2v.word2id.keys()\n",
    "for word in fr_vocab: \n",
    "    if word in en_vocab : in_common.append(word)\n",
    "        \n",
    "X = np.array([f2v.word2vec[word] for word in in_common]).T\n",
    "Y = np.array([e2v.word2vec[word] for word in in_common]).T"
   ]
  },
  {
   "cell_type": "code",
   "execution_count": 95,
   "metadata": {
    "collapsed": true
   },
   "outputs": [],
   "source": [
    "# 3 - Solve the Procrustes using the scipy package and: scipy.linalg.svd() and get the optimal W\n",
    "#     Now W*French_vector is in the same space as English_vector\n",
    "\n",
    "# TYPE CODE HERE\n",
    "from scipy.linalg import svd\n",
    "\n",
    "U, _, V = svd(Y.dot(X.T))\n",
    "W = U.dot(V)"
   ]
  },
  {
   "cell_type": "code",
   "execution_count": 96,
   "metadata": {
    "collapsed": true
   },
   "outputs": [
    {
     "name": "stdout",
     "output_type": "stream",
     "text": [
      "French to English similarities:\n",
      "the translation of auvergnat: ['occitan', 'limousin', 'provençal', 'dôme', 'auvergne', 'puy']\n",
      "the translation of segments: ['segments', 'segmented', 'segment', 'segmentation', 'segmental', 'edges']\n",
      "the translation of crimes: ['crimes', 'perpetrators', 'atrocities', 'complicity', 'criminals', 'prosecutions']\n",
      "\n",
      "English to French similarities:\n",
      "the translation of penchant: ['penchant', 'provocateur', 'sarcastique', 'plaisanteries', 'propension', 'dérision']\n",
      "the translation of monogamous: ['femelles', 'mâles', 'nidification', 'sexes', 'couples', 'femelle']\n",
      "the translation of tagging: ['wikification', 'reverté', 'modifs', 'salebot', 'modif', 'reverter']\n"
     ]
    }
   ],
   "source": [
    "# 4 - After alignment with W, give examples of English nearest neighbors of some French words (and vice versa)\n",
    "#     You will be evaluated on that part and the code above\n",
    "\n",
    "# TYPE CODE HERE\n",
    "\n",
    "\n",
    "rng = np.random.RandomState(1)\n",
    "chosen = rng.randint(0, 5e4, size = 3)\n",
    "score = f2v.score\n",
    "\n",
    "K = 5\n",
    "print('French to English similarities:')\n",
    "eng_embedding = e2v.embeddings\n",
    "for idx in chosen:\n",
    "    aligned = W.dot(f2v.embeddings[idx])\n",
    "    fun = lambda emb : score(emb , aligned , words=False)\n",
    "    similarities = np.apply_along_axis(fun, 1, eng_embedding)\n",
    "    sort = np.argsort(-similarities)[:K+1]\n",
    "    print(\"the translation of \"+ f2v.id2word[idx] +\":\", [e2v.id2word[eng] for eng in sort])\n",
    "\n",
    "    \n",
    "chosen = rng.randint(0, 5e4, size = 3)\n",
    "\n",
    "print('\\nEnglish to French similarities:')\n",
    "fr_embedding = f2v.embeddings\n",
    "for idx in chosen:\n",
    "    aligned = W.T.dot(e2v.embeddings[idx])\n",
    "    fun = lambda emb : score(emb , aligned , words=False)\n",
    "    similarities = np.apply_along_axis(fun, 1, fr_embedding)\n",
    "    sort = np.argsort(-similarities)[:K+1]\n",
    "    print(\"the translation of \"+ e2v.id2word[idx] +\":\", [f2v.id2word[eng] for eng in sort])\n",
    "\n",
    "\n"
   ]
  },
  {
   "cell_type": "markdown",
   "metadata": {},
   "source": [
    "If you want to dive deeper on this subject: https://github.com/facebookresearch/MUSE"
   ]
  },
  {
   "cell_type": "markdown",
   "metadata": {},
   "source": [
    "# 3) Sentence classification with BoV and scikit-learn"
   ]
  },
  {
   "cell_type": "code",
   "execution_count": 97,
   "metadata": {
    "collapsed": true
   },
   "outputs": [],
   "source": [
    "# 1 - Load train/dev/test of Stanford Sentiment TreeBank (SST)\n",
    "#     (https://nlp.stanford.edu/~socherr/EMNLP2013_RNTN.pdf)\n",
    "\n",
    "def load_txt(PATH, labels=True):\n",
    "    with open(PATH) as txt :\n",
    "        if labels :\n",
    "            sentences, y_sentences = [], []\n",
    "            for sent in txt.readlines():\n",
    "                sentences.append(sent[1:].strip().split())\n",
    "                y_sentences.append(int(sent[0].strip()))\n",
    "            return sentences, np.array(y_sentences)\n",
    "        return [sent.strip().split() for sent in txt.readlines()]\n",
    "\n",
    "train, y_train = load_txt(os.path.join(PATH_TO_DATA, 'SST/stsa.fine.train'))\n",
    "dev, y_dev = load_txt(os.path.join(PATH_TO_DATA, 'SST/stsa.fine.dev'))\n",
    "test = load_txt(os.path.join(PATH_TO_DATA, 'SST/stsa.fine.test.X'), labels=False)"
   ]
  },
  {
   "cell_type": "code",
   "execution_count": 98,
   "metadata": {
    "collapsed": true
   },
   "outputs": [],
   "source": [
    "# 2 - Encode sentences with the BoV model above\n",
    "s2v = BoV(w2v)\n",
    "\n",
    "X_train = s2v.encode(train)\n",
    "X_dev = s2v.encode(dev)\n",
    "\n",
    "s2v.build_idf(train + dev)\n",
    "X_train_idf = s2v.encode(train, idf=True)\n",
    "X_dev_idf = s2v.encode(dev, idf=True)"
   ]
  },
  {
   "cell_type": "code",
   "execution_count": 99,
   "metadata": {
    "collapsed": true
   },
   "outputs": [
    {
     "name": "stdout",
     "output_type": "stream",
     "text": [
      "the best C value for mean BoV is 10.00 with a score of  (train :0.500, val:0.426):\n",
      "the best C value for idf BoV is 0.10 with a score of  (train :0.460, val:0.421):\n"
     ]
    },
    {
     "data": {
      "image/png": "[encoded data removed]",
      "text/plain": [
       "<Figure size 720x216 with 2 Axes>"
      ]
     },
     "metadata": {
      "needs_background": "light"
     },
     "output_type": "display_data"
    }
   ],
   "source": [
    "# 3 - Learn Logistic Regression on top of sentence embeddings using scikit-learn\n",
    "#     (consider tuning the L2 regularization on the dev set)\n",
    "from sklearn.linear_model import LogisticRegression\n",
    "import matplotlib.pyplot as plt\n",
    "\n",
    "interval = np.arange(-4,4)\n",
    "penalisations = 10.0**interval\n",
    "plt.figure(figsize=(10,3))\n",
    "\n",
    "plt.subplot(1,2,1)\n",
    "train_acc, dev_acc = [], []\n",
    "for pen in penalisations:\n",
    "    model = LogisticRegression(C = pen, multi_class='multinomial', solver='newton-cg')\n",
    "    model.fit(X_train, y_train)\n",
    "    train_acc.append(model.score(X_train, y_train))\n",
    "    dev_acc.append(model.score(X_dev, y_dev))\n",
    "    \n",
    "print(\"the best C value for mean BoV is %.2f with a score of  (train :%.3f, val:%.3f):\"%(penalisations[np.argmax(dev_acc)], \n",
    "                                                                                        train_acc[np.argmax(dev_acc)],max(dev_acc)))\n",
    "    \n",
    "plt.plot(interval, train_acc, label='train')\n",
    "plt.plot(interval, dev_acc, label='dev')\n",
    "plt.title('Mean BoV')\n",
    "plt.legend()\n",
    "\n",
    "\n",
    "plt.subplot(1,2,2)\n",
    "train_acc, dev_acc = [], []\n",
    "for pen in penalisations:\n",
    "    model = LogisticRegression(C = pen, multi_class='multinomial', solver='newton-cg')\n",
    "    model.fit(X_train_idf, y_train)\n",
    "    train_acc.append(model.score(X_train_idf, y_train))\n",
    "    dev_acc.append(model.score(X_dev_idf, y_dev))\n",
    "    \n",
    "print(\"the best C value for idf BoV is %.2f with a score of  (train :%.3f, val:%.3f):\"%(penalisations[np.argmax(dev_acc)], \n",
    "                                                                                        train_acc[np.argmax(dev_acc)],max(dev_acc)))\n",
    "\n",
    "plt.plot(interval, train_acc, label='train')\n",
    "plt.plot(interval, dev_acc, label='dev')\n",
    "plt.title('IDF BoV')\n",
    "plt.legend()\n",
    "\n",
    "plt.show()"
   ]
  },
  {
   "cell_type": "code",
   "execution_count": 14,
   "metadata": {
    "collapsed": true
   },
   "outputs": [],
   "source": [
    "# 4 - Produce 2210 predictions for the test set (in the same order). One line = one prediction (=0,1,2,3,4).\n",
    "#     Attach the output file \"logreg_bov_y_test_sst.txt\" to your deliverable.\n",
    "#     You will be evaluated on the results of the test set.\n",
    "\n",
    "X_test = s2v.encode(test)\n",
    "model = LogisticRegression(C=10.00)\n",
    "#we train it on all of the data available\n",
    "model.fit(np.vstack((X_train, X_dev)), np.concatenate((y_train, y_dev)))\n",
    "y_test = model.predict(X_test)\n",
    "\n",
    "np.savetxt(os.path.join(PATH_TO_DATA, 'logreg_bov_y_test_sst.txt'), y_test, fmt= '%d')"
   ]
  },
  {
   "cell_type": "code",
   "execution_count": 15,
   "metadata": {
    "collapsed": true
   },
   "outputs": [],
   "source": [
    "# BONUS!\n",
    "# 5 - Try to improve performance with another classifier\n",
    "#     Attach the output file \"XXX_bov_y_test_sst.txt\" to your deliverable (where XXX = the name of the classifier)\n",
    "\n",
    "# TYPE CODE HERE\n",
    "\n",
    "# I tried SVM and Random Forests but nothing seemed to work better than Logisitic Regression"
   ]
  },
  {
   "cell_type": "markdown",
   "metadata": {},
   "source": [
    "# 4) Sentence classification with LSTMs in Keras"
   ]
  },
  {
   "cell_type": "markdown",
   "metadata": {},
   "source": [
    "## 4.1 - Preprocessing"
   ]
  },
  {
   "cell_type": "code",
   "execution_count": 17,
   "metadata": {
    "collapsed": false
   },
   "outputs": [],
   "source": [
    "import keras"
   ]
  },
  {
   "cell_type": "code",
   "execution_count": 18,
   "metadata": {
    "collapsed": true
   },
   "outputs": [],
   "source": [
    "# 1 - Load train/dev/test sets of SST\n",
    "PATH_TO_DATA = \"./data/\"\n",
    "\n",
    "def load_raw_txt(PATH, labels=True):\n",
    "    with open(PATH) as txt :\n",
    "        if labels :\n",
    "            sentences, y_sentences = [], []\n",
    "            for sent in txt.readlines():\n",
    "                sentences.append(sent[1:].strip())\n",
    "                y_sentences.append(int(sent[0].strip()))\n",
    "            return sentences, np.array(y_sentences)\n",
    "        return [sent.strip() for sent in txt.readlines()]\n",
    "\n",
    "# TYPE CODE HERE\n",
    "train, y_train = load_raw_txt(os.path.join(PATH_TO_DATA, 'SST/stsa.fine.train'))\n",
    "dev, y_dev = load_raw_txt(os.path.join(PATH_TO_DATA, 'SST/stsa.fine.dev'))\n",
    "test = load_raw_txt(os.path.join(PATH_TO_DATA, 'SST/stsa.fine.test.X'), labels=False)"
   ]
  },
  {
   "cell_type": "code",
   "execution_count": 19,
   "metadata": {
    "collapsed": true
   },
   "outputs": [],
   "source": [
    "# 2 - Transform text to integers using keras.preprocessing.text.one_hot function\n",
    "#     https://keras.io/preprocessing/text/\n",
    "\n",
    "from keras.preprocessing.text import text_to_word_sequence\n",
    "\n",
    "train_proc = list(map(text_to_word_sequence, train))\n",
    "dev_proc = list(map(text_to_word_sequence, dev))\n",
    "test_proc = list(map(text_to_word_sequence, test))\n",
    "\n",
    "flatten = lambda array : [word for sentence in array for word in sentence]\n",
    "\n",
    "# we use our own function, one hot doesn't guarantee the unicity of the assignment\n",
    "vocab = list(set(flatten(train_proc + dev_proc + test_proc)))\n",
    "id2word = dict(enumerate(vocab))\n",
    "word2id = {v: k for k, v in id2word.items()}\n",
    "\n",
    "train_id = [[word2id[x] for x in sentence] for sentence in train_proc]\n",
    "dev_id = [[word2id[x] for x in sentence] for sentence in dev_proc]\n",
    "test_id = [[word2id[x] for x in sentence] for sentence in test_proc]"
   ]
  },
  {
   "cell_type": "markdown",
   "metadata": {},
   "source": [
    "**Padding input data**\n",
    "\n",
    "Models in Keras (and elsewhere) take batches of sentences of the same length as input. It is because Deep Learning framework have been designed to handle well Tensors, which are particularly suited for fast computation on the GPU.\n",
    "\n",
    "Since sentences have different sizes, we \"pad\" them. That is, we add dummy \"padding\" tokens so that they all have the same length.\n",
    "\n",
    "The input to a Keras model thus has this size : (batchsize, maxseqlen) where maxseqlen is the maximum length of a sentence in the batch."
   ]
  },
  {
   "cell_type": "code",
   "execution_count": 20,
   "metadata": {
    "collapsed": true
   },
   "outputs": [
    {
     "name": "stdout",
     "output_type": "stream",
     "text": [
      "Loaded 200000 pretrained word vectors\n"
     ]
    }
   ],
   "source": [
    "# 3 - Pad your sequences using keras.preprocessing.sequence.pad_sequences\n",
    "#     https://keras.io/preprocessing/sequence/\n",
    "from keras.preprocessing.sequence import pad_sequences\n",
    "\n",
    "#compute the maximum length we have\n",
    "maxlen = max(map(len, train_proc + dev_proc + test_proc))\n",
    "\n",
    "X_train = pad_sequences(train_id, maxlen=maxlen)\n",
    "X_dev = pad_sequences(dev_id, maxlen=maxlen)\n",
    "X_test = pad_sequences(test_id, maxlen=maxlen)\n",
    "\n",
    "huge_w2v = Word2vec(os.path.join(PATH_TO_DATA, 'crawl-300d-200k.vec'), nmax=2e5)"
   ]
  },
  {
   "cell_type": "markdown",
   "metadata": {},
   "source": [
    "## 4.2 - Design and train your model"
   ]
  },
  {
   "cell_type": "code",
   "execution_count": 24,
   "metadata": {
    "collapsed": true
   },
   "outputs": [],
   "source": [
    "# 4 - Design your encoder + classifier using keras.layers\n",
    "#     In Keras, Torch and other deep learning framework, we create a \"container\" which is the Sequential() module.\n",
    "#     Then we add components to this contained : the lookuptable, the LSTM, the classifier etc.\n",
    "#     All of these components are contained in the Sequential() and are trained together.\n",
    "\n",
    "from keras.models import Sequential\n",
    "from keras.layers import Embedding, LSTM, Dense, Activation\n",
    "from keras.regularizers import l2\n",
    "\n",
    "embed_dim  = 300  # word embedding dimension\n",
    "nhid       = 32  # number of hidden units in the LSTM\n",
    "vocab_size = len(id2word)  # size of the vocabulary\n",
    "embedding_matrix = np.array(list(map(lambda word : huge_w2v.word2vec.get(word, np.zeros(embed_dim)), vocab)))\n",
    "n_classes  = 5\n",
    "\n",
    "def rnn_model(nhid = nhid):\n",
    "    model = Sequential()\n",
    "    model.add(Embedding(vocab_size,embed_dim,\n",
    "                        weights = [embedding_matrix],\n",
    "                        input_length= maxlen, trainable=False))\n",
    "    model.add(LSTM(nhid, dropout=0.5, recurrent_dropout=0.5, kernel_regularizer=l2(1e-5)))\n",
    "    model.add(Dense(n_classes, activation='softmax'))\n",
    "    return model"
   ]
  },
  {
   "cell_type": "code",
   "execution_count": 30,
   "metadata": {
    "collapsed": false
   },
   "outputs": [
    {
     "name": "stdout",
     "output_type": "stream",
     "text": [
      "_________________________________________________________________\n",
      "Layer (type)                 Output Shape              Param #   \n",
      "=================================================================\n",
      "embedding_5 (Embedding)      (None, 52, 300)           5351700   \n",
      "_________________________________________________________________\n",
      "lstm_5 (LSTM)                (None, 32)                42624     \n",
      "_________________________________________________________________\n",
      "dense_5 (Dense)              (None, 5)                 165       \n",
      "=================================================================\n",
      "Total params: 5,394,489\n",
      "Trainable params: 42,789\n",
      "Non-trainable params: 5,351,700\n",
      "_________________________________________________________________\n"
     ]
    }
   ],
   "source": [
    "# 5 - Define your loss/optimizer/metrics\n",
    "from keras.optimizers import RMSprop, Adam, SGD\n",
    "\n",
    "# MODIFY CODE BELOW\n",
    "\n",
    "loss_classif     =  'categorical_crossentropy' # find the right loss for multi-class classification\n",
    "optimizer        =  RMSprop(lr = 0.001) # find the right optimizer\n",
    "metrics_classif  =  ['accuracy']\n",
    "\n",
    "# Observe how easy (but blackboxed) this is in Keras\n",
    "\n",
    "model = rnn_model(nhid=32)\n",
    "\n",
    "model.compile(loss=loss_classif,\n",
    "              optimizer=optimizer,\n",
    "              metrics=metrics_classif)\n",
    "model.summary()"
   ]
  },
  {
   "cell_type": "code",
   "execution_count": 31,
   "metadata": {
    "collapsed": true
   },
   "outputs": [
    {
     "name": "stdout",
     "output_type": "stream",
     "text": [
      "Train on 8544 samples, validate on 1101 samples\n",
      "Epoch 1/20\n",
      "8544/8544 [==============================] - 6s 706us/step - loss: 1.5543 - acc: 0.2987 - val_loss: 1.5009 - val_acc: 0.3479\n",
      "Epoch 2/20\n",
      "8544/8544 [==============================] - 5s 580us/step - loss: 1.4776 - acc: 0.3413 - val_loss: 1.3907 - val_acc: 0.3906\n",
      "Epoch 3/20\n",
      "8544/8544 [==============================] - 5s 575us/step - loss: 1.4173 - acc: 0.3762 - val_loss: 1.3435 - val_acc: 0.4033\n",
      "Epoch 4/20\n",
      "8544/8544 [==============================] - 5s 588us/step - loss: 1.3897 - acc: 0.3942 - val_loss: 1.3254 - val_acc: 0.4133\n",
      "Epoch 5/20\n",
      "8544/8544 [==============================] - 5s 581us/step - loss: 1.3657 - acc: 0.4034 - val_loss: 1.3120 - val_acc: 0.4205\n",
      "Epoch 6/20\n",
      "8544/8544 [==============================] - 5s 581us/step - loss: 1.3523 - acc: 0.4095 - val_loss: 1.3032 - val_acc: 0.4160\n",
      "Epoch 7/20\n",
      "8544/8544 [==============================] - 5s 594us/step - loss: 1.3385 - acc: 0.4209 - val_loss: 1.2905 - val_acc: 0.4278\n",
      "Epoch 8/20\n",
      "8544/8544 [==============================] - 5s 579us/step - loss: 1.3227 - acc: 0.4266 - val_loss: 1.2901 - val_acc: 0.4178\n",
      "Epoch 9/20\n",
      "8544/8544 [==============================] - 5s 581us/step - loss: 1.3152 - acc: 0.4271 - val_loss: 1.2762 - val_acc: 0.4314\n",
      "Epoch 10/20\n",
      "8544/8544 [==============================] - 5s 587us/step - loss: 1.3057 - acc: 0.4343 - val_loss: 1.2725 - val_acc: 0.4287\n",
      "Epoch 11/20\n",
      "8544/8544 [==============================] - 5s 588us/step - loss: 1.2862 - acc: 0.4472 - val_loss: 1.2679 - val_acc: 0.4269\n",
      "Epoch 12/20\n",
      "8544/8544 [==============================] - 5s 587us/step - loss: 1.2851 - acc: 0.4457 - val_loss: 1.2645 - val_acc: 0.4351\n",
      "Epoch 13/20\n",
      "8544/8544 [==============================] - 5s 591us/step - loss: 1.2696 - acc: 0.4528 - val_loss: 1.2741 - val_acc: 0.4405\n",
      "Epoch 14/20\n",
      "8544/8544 [==============================] - 5s 597us/step - loss: 1.2621 - acc: 0.4570 - val_loss: 1.2565 - val_acc: 0.4478\n",
      "Epoch 15/20\n",
      "8544/8544 [==============================] - 5s 592us/step - loss: 1.2504 - acc: 0.4594 - val_loss: 1.2496 - val_acc: 0.4387\n",
      "Epoch 16/20\n",
      "8544/8544 [==============================] - 5s 584us/step - loss: 1.2452 - acc: 0.4624 - val_loss: 1.2553 - val_acc: 0.4423\n",
      "Epoch 17/20\n",
      "8544/8544 [==============================] - 5s 584us/step - loss: 1.2375 - acc: 0.4655 - val_loss: 1.2734 - val_acc: 0.4405\n",
      "Epoch 18/20\n",
      "8544/8544 [==============================] - 5s 583us/step - loss: 1.2397 - acc: 0.4704 - val_loss: 1.2509 - val_acc: 0.4541\n",
      "Epoch 19/20\n",
      "8544/8544 [==============================] - 5s 588us/step - loss: 1.2263 - acc: 0.4732 - val_loss: 1.2582 - val_acc: 0.4505\n",
      "Epoch 20/20\n",
      "8544/8544 [==============================] - 5s 587us/step - loss: 1.2264 - acc: 0.4744 - val_loss: 1.2427 - val_acc: 0.4559\n"
     ]
    },
    {
     "data": {
      "image/png": "[encoded data removed]",
      "text/plain": [
       "<Figure size 864x288 with 2 Axes>"
      ]
     },
     "metadata": {
      "needs_background": "light"
     },
     "output_type": "display_data"
    }
   ],
   "source": [
    "# 6 - Train your model and find the best hyperparameters for your dev set\n",
    "#     you will be evaluated on the quality of your predictions on the test set\n",
    "\n",
    "# ADAPT CODE BELOW\n",
    "bs = 128\n",
    "n_epochs = 20\n",
    "\n",
    "oh_train, oh_dev = np.eye(n_classes)[y_train], np.eye(n_classes)[y_dev]\n",
    "\n",
    "history = model.fit(X_train, oh_train, batch_size=bs, epochs =n_epochs, validation_data=(X_dev, oh_dev))\n",
    "\n",
    "plt.figure(figsize=(12,4))\n",
    "plt.subplot(1,2,1)\n",
    "plt.plot(history.history['acc'], label= 'train accuracy')\n",
    "plt.plot(history.history['val_acc'], label= 'val accuracy')\n",
    "plt.legend()\n",
    "plt.title('The evolution of train/val accuracy wrt epochs', fontsize=11)\n",
    "plt.subplot(1,2,2)\n",
    "plt.plot(history.history['loss'], label= 'train loss')\n",
    "plt.plot(history.history['val_loss'], label= 'val loss')\n",
    "plt.legend()\n",
    "plt.title('The evolution of train/val loss wrt epochs', fontsize=11)\n",
    "plt.show()"
   ]
  },
  {
   "cell_type": "code",
   "execution_count": 32,
   "metadata": {
    "collapsed": true
   },
   "outputs": [],
   "source": [
    "# 7 - Generate your predictions on the test set using model.predict(x_test)\n",
    "#     https://keras.io/models/model/\n",
    "#     Log your predictions in a file (one line = one integer: 0,1,2,3,4)\n",
    "#     Attach the output file \"logreg_lstm_y_test_sst.txt\" to your deliverable.\n",
    "\n",
    "# TYPE CODE HERE\n",
    "\n",
    "final_model = rnn_model(nhid=32)\n",
    "final_model.compile(loss=loss_classif,\n",
    "              optimizer=optimizer,\n",
    "              metrics=metrics_classif)\n",
    "\n",
    "final_model.fit(np.vstack([X_train, X_dev]), np.vstack([oh_train, oh_dev]), batch_size= bs, epochs=n_epochs ,verbose=0)\n",
    "y_pred = model.predict(X_test)\n",
    "\n",
    "np.savetxt(os.path.join(PATH_TO_DATA, 'logreg_lstm_y_test_sst.txt'), np.argmax(y_pred, axis=1), fmt= '%d')"
   ]
  },
  {
   "cell_type": "markdown",
   "metadata": {},
   "source": [
    "## 4.3 -- innovate !"
   ]
  },
  {
   "cell_type": "code",
   "execution_count": 85,
   "metadata": {
    "collapsed": true
   },
   "outputs": [
    {
     "name": "stdout",
     "output_type": "stream",
     "text": [
      "Train on 8544 samples, validate on 1101 samples\n",
      "Epoch 1/20\n",
      "8544/8544 [==============================] - 11s 1ms/step - loss: 1.5753 - acc: 0.2794 - val_loss: 1.5356 - val_acc: 0.3206\n",
      "Epoch 2/20\n",
      "8544/8544 [==============================] - 8s 955us/step - loss: 1.5010 - acc: 0.3443 - val_loss: 1.4045 - val_acc: 0.3824\n",
      "Epoch 3/20\n",
      "8544/8544 [==============================] - 8s 973us/step - loss: 1.4253 - acc: 0.3739 - val_loss: 1.3427 - val_acc: 0.4078\n",
      "Epoch 4/20\n",
      "8544/8544 [==============================] - 8s 962us/step - loss: 1.3781 - acc: 0.3960 - val_loss: 1.3130 - val_acc: 0.4078\n",
      "Epoch 5/20\n",
      "8544/8544 [==============================] - 8s 957us/step - loss: 1.3623 - acc: 0.4045 - val_loss: 1.3007 - val_acc: 0.4260\n",
      "Epoch 6/20\n",
      "8544/8544 [==============================] - 8s 959us/step - loss: 1.3454 - acc: 0.4143 - val_loss: 1.2886 - val_acc: 0.4296\n",
      "Epoch 7/20\n",
      "8544/8544 [==============================] - 8s 962us/step - loss: 1.3316 - acc: 0.4202 - val_loss: 1.3012 - val_acc: 0.4223\n",
      "Epoch 8/20\n",
      "8544/8544 [==============================] - 8s 965us/step - loss: 1.3166 - acc: 0.4305 - val_loss: 1.2806 - val_acc: 0.4242\n",
      "Epoch 9/20\n",
      "8544/8544 [==============================] - 8s 965us/step - loss: 1.3110 - acc: 0.4326 - val_loss: 1.2668 - val_acc: 0.4423\n",
      "Epoch 10/20\n",
      "8544/8544 [==============================] - 8s 965us/step - loss: 1.2951 - acc: 0.4436 - val_loss: 1.2695 - val_acc: 0.4360\n",
      "Epoch 11/20\n",
      "8544/8544 [==============================] - 8s 962us/step - loss: 1.2784 - acc: 0.4430 - val_loss: 1.2608 - val_acc: 0.4478\n",
      "Epoch 12/20\n",
      "8544/8544 [==============================] - 8s 973us/step - loss: 1.2774 - acc: 0.4506 - val_loss: 1.2568 - val_acc: 0.4469\n",
      "Epoch 13/20\n",
      "8544/8544 [==============================] - 8s 967us/step - loss: 1.2631 - acc: 0.4534 - val_loss: 1.2607 - val_acc: 0.4478\n",
      "Epoch 14/20\n",
      "8544/8544 [==============================] - 8s 965us/step - loss: 1.2538 - acc: 0.4613 - val_loss: 1.2581 - val_acc: 0.4332\n",
      "Epoch 15/20\n",
      "8544/8544 [==============================] - 8s 976us/step - loss: 1.2481 - acc: 0.4615 - val_loss: 1.2533 - val_acc: 0.4532\n",
      "Epoch 16/20\n",
      "8544/8544 [==============================] - 8s 966us/step - loss: 1.2392 - acc: 0.4644 - val_loss: 1.2516 - val_acc: 0.4550\n",
      "Epoch 17/20\n",
      "8544/8544 [==============================] - 8s 963us/step - loss: 1.2291 - acc: 0.4685 - val_loss: 1.2515 - val_acc: 0.4559\n",
      "Epoch 18/20\n",
      "8544/8544 [==============================] - 8s 958us/step - loss: 1.2285 - acc: 0.4730 - val_loss: 1.2473 - val_acc: 0.4396\n",
      "Epoch 19/20\n",
      "8544/8544 [==============================] - 8s 966us/step - loss: 1.2207 - acc: 0.4750 - val_loss: 1.2367 - val_acc: 0.4623\n",
      "Epoch 20/20\n",
      "8544/8544 [==============================] - 8s 963us/step - loss: 1.2078 - acc: 0.4837 - val_loss: 1.2390 - val_acc: 0.4532\n"
     ]
    }
   ],
   "source": [
    "# 8 - Open question: find a model that is better on your dev set\n",
    "#     (e.g: use a 1D ConvNet, use a better classifier, pretrain your lookup tables ..)\n",
    "#     you will get point if the results on the test set are better: be careful of not overfitting your dev set too much..\n",
    "#     Attach the output file \"XXX_XXX_y_test_sst.txt\" to your deliverable.\n",
    "\n",
    "# TYPE CODE HERE\n",
    "from keras.layers import Concatenate, Conv1D, Input, MaxPool1D, Flatten, Dropout, AvgPool1D, Bidirectional\n",
    "from keras.regularizers import l2\n",
    "from keras.models import Model\n",
    "\n",
    "# def model_cnn(filter_sizes, nb_ftrs = 8, reg = 1e-3):\n",
    "#     input_model = Input(shape=(maxlen,))\n",
    "#     layer = Embedding(vocab_size, embed_dim, weights = [embedding_matrix], input_length= maxlen, trainable=False)(input_model)\n",
    "#     convs = [AvgPool1D((maxlen - fsize + 1))(Conv1D(nb_ftrs, (fsize), \n",
    "#              activation='relu', kernel_regularizer= l2(reg) )(layer)) for fsize in filter_sizes]\n",
    "#     concat = Concatenate(axis=2)(convs)\n",
    "#     flat = Flatten()(concat)\n",
    "#     output = Dense(n_classes, activation='softmax')(flat)\n",
    "#     model = Model(input_model, output)\n",
    "#     return model  \n",
    "\n",
    "def model_bilstm(nhid = 32):\n",
    "    model = Sequential()\n",
    "    model.add(Embedding(vocab_size,embed_dim,\n",
    "                        weights = [embedding_matrix],\n",
    "                        input_length= maxlen, trainable=False))\n",
    "    model.add(Bidirectional(LSTM(nhid, dropout=0.5, recurrent_dropout=0.5, kernel_regularizer=l2(1e-5))))\n",
    "    model.add(Dense(n_classes, activation='softmax'))\n",
    "    return model\n",
    "\n",
    "bilstm = model_bilstm()\n",
    "bilstm.compile(loss=loss_classif,\n",
    "            optimizer= Adam(),\n",
    "            metrics=metrics_classif)\n",
    "\n",
    "bilstm.fit(X_train, oh_train, batch_size=128, epochs =20, validation_data=(X_dev, oh_dev))\n",
    "\n",
    "\n",
    "inno_model = model_bilstm(nhid=32)\n",
    "inno_model.compile(loss=loss_classif,\n",
    "              optimizer=Adam(),\n",
    "              metrics=metrics_classif)\n",
    "\n",
    "inno_model.fit(np.vstack([X_train, X_dev]), np.vstack([oh_train, oh_dev]), batch_size= 128, epochs=20 ,verbose=0)\n",
    "y_pred = inno_model.predict(X_test)\n",
    "\n",
    "np.savetxt(os.path.join(PATH_TO_DATA, 'logreg_bilstm_y_test_sst.txt'), np.argmax(y_pred, axis=1), fmt= '%d')"
   ]
  }
 ],
 "metadata": {
  "kernelspec": {
   "display_name": "Python 3",
   "language": "python",
   "name": "python3"
  },
  "language_info": {
   "codemirror_mode": {
    "name": "ipython",
    "version": 3
   },
   "file_extension": ".py",
   "mimetype": "text/x-python",
   "name": "python",
   "nbconvert_exporter": "python",
   "pygments_lexer": "ipython3",
   "version": "3.6.6"
  }
 },
 "nbformat": 4,
 "nbformat_minor": 2
}
